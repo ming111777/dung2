{
 "cells": [
  {
   "cell_type": "code",
   "execution_count": 1,
   "id": "f71a3bb7-513d-40aa-9528-062fdd0867c3",
   "metadata": {},
   "outputs": [],
   "source": [
    "# 기본 라이브러리 임포트\n",
    "import pandas as pd             \n",
    "import numpy as np             \n",
    "import matplotlib.pyplot as plt \n",
    "import seaborn as sns           \n",
    "import gc                       # 가비지 컬렉션(메모리 해제)\n",
    "import re                       # 정규 표현식 처리\n",
    "from collections import defaultdict  # 기본값이 있는 딕셔너리 생성\n",
    "\n",
    "# 경고 메시지 억제\n",
    "import warnings\n",
    "warnings.filterwarnings('ignore')   \n",
    "\n",
    "# 그래프 스타일 설정\n",
    "sns.set()                           # seaborn 기본 스타일 적용\n",
    "\n",
    "# matplotlib 그래프 기본 설정\n",
    "plt.rcParams['font.family'] = 'Malgun Gothic'  # 한글 폰트 설정\n",
    "# plt.rcParams['font.family'] = 'AppleGothic'  \n",
    "plt.rcParams['figure.figsize'] = (12, 6)       # 그림 크기 설정 (가로, 세로)\n",
    "plt.rcParams['font.size'] = 14                 # 폰트 크기 설정\n",
    "plt.rcParams['axes.unicode_minus'] = False     # 마이너스 기호 깨짐 방지\n",
    "\n",
    "# 결측치 시각화 라이브러리 임포트\n",
    "import missingno                          # 결측치 분포를 시각화하는 유틸리티\n",
    "\n",
    "# 범주형 변수 레이블 인코딩을 위한 도구 임포트\n",
    "from sklearn.preprocessing import LabelEncoder\n",
    "\n",
    "# 중복 조합 생성에 사용할 product 함수 임포트\n",
    "from itertools import product\n",
    "\n",
    "# 회귀 및 통계 분석을 위한 statsmodels 임포트\n",
    "import statsmodels.api as sm\n",
    "\n",
    "# 다중공선성 진단용 VIF 계산 함수 임포트\n",
    "from statsmodels.stats.outliers_influence import variance_inflation_factor"
   ]
  },
  {
   "cell_type": "markdown",
   "id": "2a4deeda-6243-446e-b45b-b19270345685",
   "metadata": {},
   "source": [
    "### 데이터 불러오기"
   ]
  },
  {
   "cell_type": "code",
   "execution_count": 2,
   "id": "d03954d7-4da0-4f3f-bf6f-ac2608b74029",
   "metadata": {},
   "outputs": [
    {
     "name": "stdout",
     "output_type": "stream",
     "text": [
      "로드 후 0 전부 컬럼: []\n",
      "로드 후 NaN 있는 컬럼: ['Segment']\n",
      "로드 후 전체 컬럼 수: 56\n"
     ]
    }
   ],
   "source": [
    "# 데이터를 불러온다.\n",
    "df1 = pd.read_parquet('채널정보_결측치_제거.parquet')\n",
    "\n",
    "zero_after = [c for c in df1.columns if df1[c].eq(0).all()]\n",
    "na_after   = [c for c in df1.columns if df1[c].isna().any()]\n",
    "\n",
    "print(\"로드 후 0 전부 컬럼:\", zero_after)\n",
    "print(\"로드 후 NaN 있는 컬럼:\", na_after)\n",
    "print(\"로드 후 전체 컬럼 수:\", len(df1.columns))"
   ]
  },
  {
   "cell_type": "markdown",
   "id": "5745a3ae-6a29-46e4-97ed-3376906f09bf",
   "metadata": {},
   "source": [
    "### Segment 분포 확인하기"
   ]
  },
  {
   "cell_type": "code",
   "execution_count": 3,
   "id": "9484d88c-3ea0-4160-bc74-1f20ea57a94d",
   "metadata": {},
   "outputs": [
    {
     "name": "stdout",
     "output_type": "stream",
     "text": [
      "▶ Segment 정보:\n",
      "Segment\n",
      "E    1922052\n",
      "D     349242\n",
      "C     127590\n",
      "A        972\n",
      "B        144\n",
      "Name: count, dtype: int64\n",
      "\n",
      "▶ Segment 분포 및 비율 (%):\n",
      "Segment\n",
      "E    0.80086\n",
      "D    0.14552\n",
      "C    0.05316\n",
      "A    0.00040\n",
      "B    0.00006\n",
      "Name: proportion, dtype: float64\n"
     ]
    }
   ],
   "source": [
    "# 1) Segment(타깃) 분포 살펴보기\n",
    "print(\"▶ Segment 정보:\")\n",
    "print(df1['Segment'].value_counts())\n",
    "\n",
    "print(\"\\n▶ Segment 분포 및 비율 (%):\")\n",
    "print(df1['Segment'].value_counts(normalize=True).round(5))"
   ]
  },
  {
   "cell_type": "code",
   "execution_count": 4,
   "id": "c69b6a96-b838-4bf9-bc98-fbd8e7faaf9b",
   "metadata": {},
   "outputs": [
    {
     "name": "stdout",
     "output_type": "stream",
     "text": [
      "           기준년월            ID  인입일수_ARS_R6M  인입월수_ARS_R6M  인입후경과월_ARS  \\\n",
      "0        201807  TRAIN_000000             8             6           0   \n",
      "1        201807  TRAIN_000001             0             0           0   \n",
      "2        201807  TRAIN_000002             1             1           0   \n",
      "3        201807  TRAIN_000003            10             6           0   \n",
      "4        201807  TRAIN_000004             0             0           0   \n",
      "...         ...           ...           ...           ...         ...   \n",
      "2999995  201812    TEST_99995             0             0           0   \n",
      "2999996  201812    TEST_99996             0             0           0   \n",
      "2999997  201812    TEST_99997             0             0           0   \n",
      "2999998  201812    TEST_99998             0             0           0   \n",
      "2999999  201812    TEST_99999             0             0           0   \n",
      "\n",
      "         인입횟수_ARS_B0M  이용메뉴건수_ARS_B0M  인입일수_ARS_B0M  방문월수_PC_R6M  \\\n",
      "0                   2               6             2            0   \n",
      "1                   0               0             0            0   \n",
      "2                   2               5             1            6   \n",
      "3                   2               6             2            0   \n",
      "4                   0               0             0            0   \n",
      "...               ...             ...           ...          ...   \n",
      "2999995             0               0             0            0   \n",
      "2999996             0               0             0            0   \n",
      "2999997             0               0             0            0   \n",
      "2999998             0               0             0            0   \n",
      "2999999             0               0             0            0   \n",
      "\n",
      "         방문후경과월_PC_R6M  ...  인입횟수_ARS_R6M_num  이용메뉴건수_ARS_R6M_num  \\\n",
      "0                    6  ...                10                  10   \n",
      "1                    6  ...                 1                   1   \n",
      "2                    0  ...                 1                   1   \n",
      "3                    6  ...                10                  10   \n",
      "4                    6  ...                 1                   1   \n",
      "...                ...  ...               ...                 ...   \n",
      "2999995              6  ...                 1                   1   \n",
      "2999996              6  ...                 1                   1   \n",
      "2999997              6  ...                 1                   1   \n",
      "2999998              6  ...                 1                   1   \n",
      "2999999              6  ...                 1                   1   \n",
      "\n",
      "         방문횟수_PC_R6M_num  방문일수_PC_R6M_num  방문횟수_앱_R6M_num  Seg_A  Seg_B  \\\n",
      "0                      1                1               1  False  False   \n",
      "1                      1                1               1  False  False   \n",
      "2                     10               10              30  False  False   \n",
      "3                      1                1               1  False  False   \n",
      "4                      1                1               1  False  False   \n",
      "...                  ...              ...             ...    ...    ...   \n",
      "2999995                1                1               1  False  False   \n",
      "2999996                1                1              10  False  False   \n",
      "2999997                1                1               1  False  False   \n",
      "2999998                1                1              40  False  False   \n",
      "2999999                1                1               1  False  False   \n",
      "\n",
      "         Seg_C  Seg_D  Seg_E  \n",
      "0        False   True  False  \n",
      "1        False  False   True  \n",
      "2         True  False  False  \n",
      "3        False   True  False  \n",
      "4        False  False   True  \n",
      "...        ...    ...    ...  \n",
      "2999995  False  False  False  \n",
      "2999996  False  False  False  \n",
      "2999997  False  False  False  \n",
      "2999998  False  False  False  \n",
      "2999999  False  False  False  \n",
      "\n",
      "[3000000 rows x 60 columns]\n"
     ]
    }
   ],
   "source": [
    "# One-Hot Encoding\n",
    "df_ohe = pd.get_dummies(df1, columns=['Segment'], prefix='Seg')\n",
    "\n",
    "# 결과 확인\n",
    "print(df_ohe)"
   ]
  },
  {
   "cell_type": "markdown",
   "id": "71680856-0d14-4896-91b7-6f43f2ae5973",
   "metadata": {},
   "source": [
    "### 날짜형 컬럼 datetime으로 변경"
   ]
  },
  {
   "cell_type": "code",
   "execution_count": 5,
   "id": "4083297e-364e-4162-98c7-3fb2526897bb",
   "metadata": {},
   "outputs": [
    {
     "name": "stdout",
     "output_type": "stream",
     "text": [
      "period[M]\n",
      "0    2018-07\n",
      "1    2018-07\n",
      "2    2018-07\n",
      "3    2018-07\n",
      "4    2018-07\n",
      "Name: 기준년월, dtype: period[M]\n"
     ]
    }
   ],
   "source": [
    "# '기준년월' 컬럼을 문자열로 변환한 뒤 날짜로 파싱하고, 월 단위 Period 타입으로 변경\n",
    "df1['기준년월'] = (\n",
    "    pd.to_datetime(                         # 문자열을 datetime 타입으로 파싱\n",
    "        df1['기준년월'].astype(str),         # 숫자형 등을 문자열로 변환\n",
    "        format='%Y%m'                      # 'YYYYMM' 형식 지정\n",
    "    )\n",
    "    .dt.to_period('M')                     # 연-월 단위 Period 타입으로 변환\n",
    ")\n",
    "\n",
    "# 변환된 '기준년월' 컬럼의 데이터 타입 및 일부 값 출력\n",
    "print(df1['기준년월'].dtype)             \n",
    "print(df1['기준년월'].head())            "
   ]
  },
  {
   "cell_type": "markdown",
   "id": "a3e44da6-8642-4722-84c9-af0e7cf9e63d",
   "metadata": {},
   "source": [
    "### 컬럼을 기간과 채널을 기준으로 그룹으로 묶는다."
   ]
  },
  {
   "cell_type": "code",
   "execution_count": 6,
   "id": "da291bb2-50b6-45ee-8101-4ca9a4a7a0bd",
   "metadata": {},
   "outputs": [
    {
     "name": "stdout",
     "output_type": "stream",
     "text": [
      "순서형_범주형 (5개): ['인입횟수_ARS_R6M_num', '이용메뉴건수_ARS_R6M_num', '방문횟수_PC_R6M_num', '방문일수_PC_R6M_num', '방문횟수_앱_R6M_num']\n",
      "Identifiers (3개): ['기준년월', 'ID', 'Segment']\n",
      "ARS (5개): ['인입일수_ARS_R6M', '인입월수_ARS_R6M', '인입후경과월_ARS', '인입횟수_ARS_B0M', '인입일수_ARS_B0M']\n",
      "PC (4개): ['방문월수_PC_R6M', '방문후경과월_PC_R6M', '방문횟수_PC_B0M', '방문일수_PC_B0M']\n",
      "앱 (5개): ['방문일수_앱_R6M', '방문월수_앱_R6M', '방문후경과월_앱_R6M', '방문횟수_앱_B0M', '방문일수_앱_B0M']\n",
      "모바일웹 (6개): ['방문횟수_모바일웹_R6M', '방문일수_모바일웹_R6M', '방문월수_모바일웹_R6M', '방문후경과월_모바일웹_R6M', '방문횟수_모바일웹_B0M', '방문일수_모바일웹_B0M']\n",
      "IB_기본 (6개): ['인입횟수_IB_R6M', '인입일수_IB_R6M', '인입월수_IB_R6M', '인입후경과월_IB_R6M', '인입횟수_IB_B0M', '인입일수_IB_B0M']\n",
      "IB_불만 (1개): ['인입불만후경과월_IB_R6M']\n",
      "IB_사용승인내역 (2개): ['IB문의건수_사용승인내역_R6M', 'IB문의건수_사용승인내역_B0M']\n",
      "IB_한도 (1개): ['IB문의건수_한도_R6M']\n",
      "IB_선결제 (2개): ['IB문의건수_선결제_R6M', 'IB문의건수_선결제_B0M']\n",
      "IB_결제 (2개): ['IB문의건수_결제_R6M', 'IB문의건수_할부_R6M']\n",
      "IB_정보변경 (2개): ['IB문의건수_정보변경_R6M', 'IB문의건수_결제일변경_R6M']\n",
      "IB_비밀번호 (1개): ['IB문의건수_비밀번호_R6M']\n",
      "IB_SMS (2개): ['IB문의건수_SMS_R6M', 'IB문의건수_부대서비스_R6M']\n",
      "IB_포인트 (1개): ['IB문의건수_포인트_R6M']\n",
      "IB_카드발급 (2개): ['IB문의건수_카드발급_R6M', 'IB문의건수_카드발급_B0M']\n",
      "IB_BL (4개): ['IB문의건수_BL_R6M', 'IB문의건수_CA_R6M', 'IB문의건수_CL_RV_R6M', 'IB문의건수_CL_RV_B0M']\n",
      "IB_분실도난 (1개): ['IB문의건수_분실도난_R6M']\n",
      "IB_CS (2개): ['IB문의건수_CS_R6M', 'IB문의건수_CS_B0M']\n",
      "상담건수 (3개): ['상담건수_R6M', '상담건수_B0M', '불만제기후경과월_R12M']\n",
      "인입후경과월_ARS (1개): ['인입후경과월_ARS']\n",
      "이용메뉴건수 (3개): ['이용메뉴건수_ARS_B0M', '이용메뉴건수_IB_B0M', '이용메뉴건수_IB_R6M']\n",
      "당사멤버쉽 (3개): ['당사멤버쉽_방문월수_R6M', '당사멤버쉽_방문횟수_B0M', '당사멤버쉽_방문횟수_R6M']\n",
      "홈페이지_금융 (2개): ['홈페이지_금융건수_R3M', '홈페이지_금융건수_R6M']\n",
      "홈페이지_선결제 (2개): ['홈페이지_선결제건수_R3M', '홈페이지_선결제건수_R6M']\n",
      "====================\n",
      "모든 컬럼이 그룹에 잘 포함되어 있습니다.\n"
     ]
    }
   ],
   "source": [
    "# 그룹 딕셔너리 정의\n",
    "groups = {\n",
    "    '순서형_범주형':['인입횟수_ARS_R6M_num', '이용메뉴건수_ARS_R6M_num', '방문횟수_PC_R6M_num', '방문일수_PC_R6M_num', '방문횟수_앱_R6M_num'],\n",
    "    'Identifiers': ['기준년월', 'ID', 'Segment'],\n",
    "    'ARS': ['인입일수_ARS_R6M', '인입월수_ARS_R6M', '인입후경과월_ARS','인입횟수_ARS_B0M', '인입일수_ARS_B0M'],\n",
    "    'PC': ['방문월수_PC_R6M', '방문후경과월_PC_R6M','방문횟수_PC_B0M','방문일수_PC_B0M'],\n",
    "    '앱': ['방문일수_앱_R6M','방문월수_앱_R6M', '방문후경과월_앱_R6M','방문횟수_앱_B0M','방문일수_앱_B0M'],\n",
    "    '모바일웹': ['방문횟수_모바일웹_R6M','방문일수_모바일웹_R6M', '방문월수_모바일웹_R6M','방문후경과월_모바일웹_R6M',\n",
    "             '방문횟수_모바일웹_B0M','방문일수_모바일웹_B0M'\n",
    "    ],\n",
    "    'IB_기본': ['인입횟수_IB_R6M','인입일수_IB_R6M','인입월수_IB_R6M', '인입후경과월_IB_R6M','인입횟수_IB_B0M','인입일수_IB_B0M'],\n",
    "    'IB_불만': ['인입불만후경과월_IB_R6M'],\n",
    "    # IB문의건수 메트릭별\n",
    "    'IB_사용승인내역': ['IB문의건수_사용승인내역_R6M','IB문의건수_사용승인내역_B0M'],\n",
    "    'IB_한도':       ['IB문의건수_한도_R6M'],\n",
    "    'IB_선결제':     ['IB문의건수_선결제_R6M','IB문의건수_선결제_B0M'],\n",
    "    'IB_결제':       ['IB문의건수_결제_R6M', 'IB문의건수_할부_R6M'],\n",
    "    'IB_정보변경':    ['IB문의건수_정보변경_R6M', 'IB문의건수_결제일변경_R6M'],\n",
    "    'IB_비밀번호':    ['IB문의건수_비밀번호_R6M'],\n",
    "    'IB_SMS':       ['IB문의건수_SMS_R6M', 'IB문의건수_부대서비스_R6M'],\n",
    "    'IB_포인트':     ['IB문의건수_포인트_R6M'],\n",
    "    'IB_카드발급':    ['IB문의건수_카드발급_R6M','IB문의건수_카드발급_B0M'],\n",
    "    'IB_BL':        ['IB문의건수_BL_R6M', 'IB문의건수_CA_R6M', 'IB문의건수_CL_RV_R6M','IB문의건수_CL_RV_B0M'],\n",
    "    'IB_분실도난':    ['IB문의건수_분실도난_R6M'],\n",
    "    'IB_CS':        ['IB문의건수_CS_R6M','IB문의건수_CS_B0M'],\n",
    "    '상담건수':      ['상담건수_R6M','상담건수_B0M', '불만제기후경과월_R12M'],\n",
    "    '인입후경과월_ARS':['인입후경과월_ARS'],\n",
    "    '이용메뉴건수':['이용메뉴건수_ARS_B0M', '이용메뉴건수_IB_B0M', '이용메뉴건수_IB_R6M'],\n",
    "    '당사멤버쉽':['당사멤버쉽_방문월수_R6M', '당사멤버쉽_방문횟수_B0M', '당사멤버쉽_방문횟수_R6M'],\n",
    "    '홈페이지_금융':['홈페이지_금융건수_R3M', '홈페이지_금융건수_R6M'],\n",
    "    '홈페이지_선결제':['홈페이지_선결제건수_R3M', '홈페이지_선결제건수_R6M']\n",
    "}\n",
    "\n",
    "# 각 그룹의 이름과 변수 수를 출력\n",
    "for name, cols in groups.items():\n",
    "    print(f\"{name} ({len(cols)}개): {cols}\")\n",
    "\n",
    "# 그룹에 포함되지 않은 컬럼 찾기\n",
    "print (\"=\"*20)\n",
    "\n",
    "grouped_cols = set(sum(groups.values(), []))\n",
    "all_cols = set(df1.columns)\n",
    "ungrouped_cols = sorted(list(all_cols - grouped_cols))\n",
    "\n",
    "if ungrouped_cols:\n",
    "    print(\"그룹에 포함되지 않은 컬럼:\")\n",
    "    for col in ungrouped_cols:\n",
    "        print(\" -\", col)\n",
    "else:\n",
    "    print(\"모든 컬럼이 그룹에 잘 포함되어 있습니다.\")"
   ]
  },
  {
   "cell_type": "markdown",
   "id": "44339393-2aa4-4e61-ae2d-263347f860dc",
   "metadata": {},
   "source": [
    "### 그룹 내 변수 간 상관관계 분석\n",
    "- 에타 제곱 분석의 신뢰도를 높이기 위해, 전체의 5% 미만을 차지하는 세그먼트는 표본 수가 부족하여 과도한 변동을 유발하고 해석에 혼란을 줄 수 있으므로 사전에 제외하였다.\n",
    "- 에타 제곱 값이 0.01 미만인 변수는 그룹 간 차이를 설명하는 데 기여가 거의 없다고 판단하여 추가 분석 대상에서 제외하였다."
   ]
  },
  {
   "cell_type": "code",
   "execution_count": 7,
   "id": "f2d99099-884e-490f-856b-fe779259c1b4",
   "metadata": {},
   "outputs": [],
   "source": [
    "# Seg_로 시작하는 더미 컬럼 리스트 생성\n",
    "dummy_cols = [c for c in df_ohe.columns if c.startswith('Seg_')]\n",
    "\n",
    "# Segment 복원: 값이 1인 더미 컬럼에서 'Seg_' 접두사를 제거\n",
    "df_ohe['Segment'] = df_ohe[dummy_cols].idxmax(axis=1).str.replace('Seg_', '')\n",
    "\n",
    "# 수치형 변수만 남긴 df_num 생성 (더미 컬럼 제거)\n",
    "df_num = df_ohe.drop(columns=dummy_cols).copy()\n",
    "\n",
    "# 기존에 생성한 df_num을 df로 재할당\n",
    "df = df_num"
   ]
  },
  {
   "cell_type": "code",
   "execution_count": 8,
   "id": "1b077de1-aaa4-4bc0-8b0c-53b9d3f1fb0a",
   "metadata": {},
   "outputs": [],
   "source": [
    "# 수치형 독립 변수와 범주형 타겟 변수 사이의 관련성 확인 (Eta Squared : 에타 제곱)\n",
    "def eta_squared(y, x):\n",
    "    # 제외할 세그먼트 리스트 설정\n",
    "    drop_segs = ['A', 'B']\n",
    "    \n",
    "    # 제외 대상 세그먼트 필터 마스크 생성\n",
    "    mask = ~y.isin(drop_segs)\n",
    "    y_f = y[mask]\n",
    "    x_f = x[mask]\n",
    "    \n",
    "    # 전체 x_f의 평균 산출하여 grand_mean에 저장\n",
    "    grand_mean = x_f.mean()\n",
    "    \n",
    "    # 총 변동 SST 산출\n",
    "    sst = ((x_f - grand_mean) ** 2).sum()\n",
    "    \n",
    "    # 필터링된 그룹별 x_f 리스트 생성\n",
    "    groups = [x_f[y_f == val] for val in y_f.unique()]\n",
    "    \n",
    "    # 집단 간 변동 SSB 산출\n",
    "    ssb = sum(len(g) * (g.mean() - grand_mean) ** 2 for g in groups)\n",
    "    \n",
    "    # Eta Squared 산출하여 반환\n",
    "    return ssb / sst if sst != 0 else np.nan"
   ]
  },
  {
   "cell_type": "code",
   "execution_count": 9,
   "id": "7ca1e006-db0e-40dc-8cd9-83be61f0a016",
   "metadata": {},
   "outputs": [],
   "source": [
    "# VIF 계산 함수 (그룹 내 수치형 변수만)\n",
    "def compute_vif(df, feature_cols):\n",
    "    X = df[feature_cols].select_dtypes(include=[np.number]).copy()  # df1 → df\n",
    "    X['const'] = 1.0\n",
    "    X = X.replace([np.inf, -np.inf], np.nan).dropna()\n",
    "    vif_data = []\n",
    "    for i, col in enumerate(X.columns):\n",
    "        vif_data.append({\n",
    "            'variable': col,\n",
    "            'VIF': variance_inflation_factor(X.values, i)\n",
    "        })\n",
    "    return pd.DataFrame(vif_data)"
   ]
  },
  {
   "cell_type": "code",
   "execution_count": 10,
   "id": "57d14ca7-76fa-43c0-8c07-b6e8bd93cb30",
   "metadata": {},
   "outputs": [],
   "source": [
    "# df = df_num 까지 수행한 뒤, 이 코드 블록을 실행\n",
    "\n",
    "# 순서형 인코딩할 원본 _num 컬럼 리스트\n",
    "ord_cols = [\n",
    "    '인입횟수_ARS_R6M_num',\n",
    "    '이용메뉴건수_ARS_R6M_num',\n",
    "    '방문횟수_PC_R6M_num',\n",
    "    '방문일수_PC_R6M_num',\n",
    "    '방문횟수_앱_R6M_num'\n",
    "]\n",
    "\n",
    "# 순서형 인덱스를 매핑하여 df에 새로운 _ord 컬럼 생성\n",
    "for col in ord_cols:\n",
    "    unique_vals = sorted(df[col].unique())\n",
    "    mapping     = {val: idx + 1 for idx, val in enumerate(unique_vals)}\n",
    "    df[f'{col}_ord'] = df[col].map(mapping)\n",
    "\n",
    "# 원본 _num 컬럼 삭제\n",
    "df.drop(columns=ord_cols, inplace=True)\n",
    "\n",
    "\n",
    "group_cols = [\n",
    "    '인입횟수_ARS_R6M_num_ord',\n",
    "    '이용메뉴건수_ARS_R6M_num_ord',\n",
    "    '방문횟수_PC_R6M_num_ord',\n",
    "    '방문일수_PC_R6M_num_ord',\n",
    "    '방문횟수_앱_R6M_num_ord'\n",
    "]"
   ]
  },
  {
   "cell_type": "markdown",
   "id": "b96f67d7-37cc-4fa3-91b8-9bb7d1312032",
   "metadata": {},
   "source": [
    "### 1. 순서형 컬럼들"
   ]
  },
  {
   "cell_type": "code",
   "execution_count": 11,
   "id": "790741ce-6aa3-45db-bd77-67d2a9865748",
   "metadata": {},
   "outputs": [
    {
     "name": "stdout",
     "output_type": "stream",
     "text": [
      "인입횟수_ARS_R6M_num_ord vs Segment η²: 0.012\n",
      "이용메뉴건수_ARS_R6M_num_ord vs Segment η²: 0.010\n",
      "방문횟수_PC_R6M_num_ord vs Segment η²: 0.019\n",
      "방문일수_PC_R6M_num_ord vs Segment η²: 0.018\n",
      "방문횟수_앱_R6M_num_ord vs Segment η²: 0.021\n"
     ]
    }
   ],
   "source": [
    "# 비교하고 싶은 그룹 변수 리스트\n",
    "group_cols = ['인입횟수_ARS_R6M_num_ord', '이용메뉴건수_ARS_R6M_num_ord', '방문횟수_PC_R6M_num_ord', '방문일수_PC_R6M_num_ord', '방문횟수_앱_R6M_num_ord']\n",
    "\n",
    "# 각 변수에 대해 η² 계산\n",
    "for col in group_cols:\n",
    "    η2 = eta_squared(df['Segment'], df[col])\n",
    "    print(f\"{col} vs Segment η²: {η2:.3f}\")"
   ]
  },
  {
   "cell_type": "code",
   "execution_count": 12,
   "id": "c74b5b4b-b5ed-4288-851b-af5e8bc0d5ea",
   "metadata": {},
   "outputs": [
    {
     "name": "stdout",
     "output_type": "stream",
     "text": [
      "                 variable        VIF\n",
      "0    인입횟수_ARS_R6M_num_ord   2.821548\n",
      "1  이용메뉴건수_ARS_R6M_num_ord   2.821639\n",
      "2     방문일수_PC_R6M_num_ord   1.014549\n",
      "3      방문횟수_앱_R6M_num_ord   1.014874\n",
      "4                   const  50.320842\n"
     ]
    }
   ],
   "source": [
    "# 그룹 변수 리스트 정의\n",
    "ars_cols = ['인입횟수_ARS_R6M_num_ord', '이용메뉴건수_ARS_R6M_num_ord', '방문일수_PC_R6M_num_ord', '방문횟수_앱_R6M_num_ord']\n",
    "\n",
    "# 그룹 내 다중공선성 확인\n",
    "vif_ars = compute_vif(df, ars_cols)\n",
    "print(vif_ars)"
   ]
  },
  {
   "cell_type": "code",
   "execution_count": 13,
   "id": "7b0969f4-5ebc-4b15-a97f-a5d0d39a2b5e",
   "metadata": {},
   "outputs": [],
   "source": [
    "# 삭제할 피처 리스트\n",
    "drop_cols = ['방문횟수_PC_R6M_num_ord']\n",
    "\n",
    "# 삭제\n",
    "df.drop(columns=drop_cols, inplace = True)"
   ]
  },
  {
   "cell_type": "markdown",
   "id": "d5fd7c48-5b92-4b72-8c38-c168b2b1866c",
   "metadata": {},
   "source": [
    "### 2. ARS 그룹"
   ]
  },
  {
   "cell_type": "code",
   "execution_count": 14,
   "id": "3cb2199d-e42c-46da-941d-5f9ecd1a5da6",
   "metadata": {},
   "outputs": [
    {
     "name": "stdout",
     "output_type": "stream",
     "text": [
      "인입일수_ARS_R6M vs Segment η²: 0.025\n",
      "인입월수_ARS_R6M vs Segment η²: 0.025\n",
      "인입후경과월_ARS vs Segment η²: 0.005\n",
      "인입횟수_ARS_B0M vs Segment η²: 0.013\n",
      "인입일수_ARS_B0M vs Segment η²: 0.014\n"
     ]
    }
   ],
   "source": [
    "# 비교하고 싶은 그룹 변수 리스트\n",
    "group_cols = ['인입일수_ARS_R6M', '인입월수_ARS_R6M', '인입후경과월_ARS', '인입횟수_ARS_B0M', '인입일수_ARS_B0M']\n",
    "\n",
    "# 각 변수에 대해 η² 계산\n",
    "for col in group_cols:\n",
    "    η2 = eta_squared(df['Segment'], df[col])\n",
    "    print(f\"{col} vs Segment η²: {η2:.3f}\")"
   ]
  },
  {
   "cell_type": "code",
   "execution_count": 15,
   "id": "7d9acc0f-69b5-4a9f-8c73-15e718d5dd47",
   "metadata": {
    "scrolled": true
   },
   "outputs": [
    {
     "name": "stdout",
     "output_type": "stream",
     "text": [
      "Index(['기준년월', 'ID', '인입일수_ARS_R6M', '인입월수_ARS_R6M', '인입횟수_ARS_B0M',\n",
      "       '이용메뉴건수_ARS_B0M', '인입일수_ARS_B0M', '방문월수_PC_R6M', '방문후경과월_PC_R6M',\n",
      "       '방문일수_앱_R6M', '방문월수_앱_R6M', '방문후경과월_앱_R6M', '방문횟수_모바일웹_R6M',\n",
      "       '방문일수_모바일웹_R6M', '방문월수_모바일웹_R6M', '방문후경과월_모바일웹_R6M', '방문횟수_PC_B0M',\n",
      "       '방문일수_PC_B0M', '방문횟수_앱_B0M', '방문일수_앱_B0M', '인입횟수_IB_R6M', '인입일수_IB_R6M',\n",
      "       '인입월수_IB_R6M', '이용메뉴건수_IB_R6M', '인입후경과월_IB_R6M', '인입횟수_IB_B0M',\n",
      "       '인입일수_IB_B0M', '이용메뉴건수_IB_B0M', '상담건수_B0M', 'IB문의건수_선결제_B0M',\n",
      "       '상담건수_R6M', 'IB문의건수_사용승인내역_R6M', 'IB문의건수_한도_R6M', 'IB문의건수_선결제_R6M',\n",
      "       'IB문의건수_결제_R6M', 'IB문의건수_정보변경_R6M', 'IB문의건수_결제일변경_R6M',\n",
      "       'IB문의건수_카드발급_R6M', 'IB문의건수_분실도난_R6M', 'IB문의건수_CL_RV_R6M',\n",
      "       'IB문의건수_CS_R6M', '불만제기후경과월_R12M', '당사멤버쉽_방문횟수_B0M', '당사멤버쉽_방문횟수_R6M',\n",
      "       '당사멤버쉽_방문월수_R6M', '홈페이지_금융건수_R6M', '홈페이지_선결제건수_R6M', '홈페이지_금융건수_R3M',\n",
      "       '홈페이지_선결제건수_R3M', 'Segment', '인입횟수_ARS_R6M_num_ord',\n",
      "       '이용메뉴건수_ARS_R6M_num_ord', '방문일수_PC_R6M_num_ord', '방문횟수_앱_R6M_num_ord'],\n",
      "      dtype='object')\n"
     ]
    }
   ],
   "source": [
    "# 삭제할 피처 리스트 (>0.01이 아닌, 거의 효과가 없는 것)\n",
    "drop_cols = ['인입후경과월_ARS']\n",
    "\n",
    "# 삭제\n",
    "df.drop(columns=drop_cols, inplace = True)\n",
    "\n",
    "# 삭제 확인\n",
    "print(df.columns)"
   ]
  },
  {
   "cell_type": "code",
   "execution_count": 16,
   "id": "497e8599-36cb-48b3-b019-ae0d0df02980",
   "metadata": {},
   "outputs": [
    {
     "name": "stdout",
     "output_type": "stream",
     "text": [
      "       variable       VIF\n",
      "0  인입일수_ARS_R6M  6.884049\n",
      "1  인입월수_ARS_R6M  6.377953\n",
      "2  인입횟수_ARS_B0M  2.153305\n",
      "3         const  1.229805\n"
     ]
    }
   ],
   "source": [
    "# 그룹 변수 리스트 정의\n",
    "ars_cols = ['인입일수_ARS_R6M', '인입월수_ARS_R6M', '인입횟수_ARS_B0M']\n",
    "\n",
    "# 그룹 내 다중공선성 확인\n",
    "vif_ars = compute_vif(df, ars_cols)\n",
    "print(vif_ars)"
   ]
  },
  {
   "cell_type": "code",
   "execution_count": 17,
   "id": "bfe45c23-8868-4175-b212-c68148e9e6d5",
   "metadata": {},
   "outputs": [],
   "source": [
    "# 삭제할 피처 리스트\n",
    "drop_cols = ['인입일수_ARS_B0M']\n",
    "\n",
    "# 삭제\n",
    "df.drop(columns=drop_cols, inplace = True)"
   ]
  },
  {
   "cell_type": "markdown",
   "id": "77762560-f66a-4da4-8865-f2f5dd9e956f",
   "metadata": {},
   "source": [
    "### 3. PC 그룹"
   ]
  },
  {
   "cell_type": "code",
   "execution_count": 18,
   "id": "64d1065a-d9d0-4f3c-af7f-9682f1e203ae",
   "metadata": {},
   "outputs": [
    {
     "name": "stdout",
     "output_type": "stream",
     "text": [
      "방문월수_PC_R6M vs Segment η²: 0.026\n",
      "방문후경과월_PC_R6M vs Segment η²: 0.030\n",
      "방문횟수_PC_B0M vs Segment η²: 0.020\n",
      "방문일수_PC_B0M vs Segment η²: 0.020\n"
     ]
    }
   ],
   "source": [
    "# 비교하고 싶은 그룹 변수 리스트\n",
    "group_cols = ['방문월수_PC_R6M', '방문후경과월_PC_R6M', '방문횟수_PC_B0M', '방문일수_PC_B0M']\n",
    "\n",
    "# 각 변수에 대해 η² 계산\n",
    "for col in group_cols:\n",
    "    η2 = eta_squared(df['Segment'], df[col])\n",
    "    print(f\"{col} vs Segment η²: {η2:.3f}\")"
   ]
  },
  {
   "cell_type": "code",
   "execution_count": 19,
   "id": "8484f6ca-8538-4e61-9ea5-0265dcc9f8a6",
   "metadata": {},
   "outputs": [
    {
     "name": "stdout",
     "output_type": "stream",
     "text": [
      "        variable        VIF\n",
      "0  방문후경과월_PC_R6M   4.137573\n",
      "1    방문횟수_PC_B0M   4.137573\n",
      "2          const  49.499929\n"
     ]
    }
   ],
   "source": [
    "# 그룹 변수 리스트 정의\n",
    "ars_cols = ['방문후경과월_PC_R6M', '방문횟수_PC_B0M']\n",
    "\n",
    "# 그룹 내 다중공선성 확인\n",
    "vif_ars = compute_vif(df, ars_cols)\n",
    "print(vif_ars)"
   ]
  },
  {
   "cell_type": "code",
   "execution_count": 20,
   "id": "f1c08865-cf56-4bcb-80a2-2188682dcfb7",
   "metadata": {},
   "outputs": [
    {
     "name": "stdout",
     "output_type": "stream",
     "text": [
      "Index(['기준년월', 'ID', '인입일수_ARS_R6M', '인입월수_ARS_R6M', '인입횟수_ARS_B0M',\n",
      "       '이용메뉴건수_ARS_B0M', '방문후경과월_PC_R6M', '방문일수_앱_R6M', '방문월수_앱_R6M',\n",
      "       '방문후경과월_앱_R6M', '방문횟수_모바일웹_R6M', '방문일수_모바일웹_R6M', '방문월수_모바일웹_R6M',\n",
      "       '방문후경과월_모바일웹_R6M', '방문횟수_PC_B0M', '방문일수_PC_B0M', '방문횟수_앱_B0M',\n",
      "       '방문일수_앱_B0M', '인입횟수_IB_R6M', '인입일수_IB_R6M', '인입월수_IB_R6M',\n",
      "       '이용메뉴건수_IB_R6M', '인입후경과월_IB_R6M', '인입횟수_IB_B0M', '인입일수_IB_B0M',\n",
      "       '이용메뉴건수_IB_B0M', '상담건수_B0M', 'IB문의건수_선결제_B0M', '상담건수_R6M',\n",
      "       'IB문의건수_사용승인내역_R6M', 'IB문의건수_한도_R6M', 'IB문의건수_선결제_R6M', 'IB문의건수_결제_R6M',\n",
      "       'IB문의건수_정보변경_R6M', 'IB문의건수_결제일변경_R6M', 'IB문의건수_카드발급_R6M',\n",
      "       'IB문의건수_분실도난_R6M', 'IB문의건수_CL_RV_R6M', 'IB문의건수_CS_R6M', '불만제기후경과월_R12M',\n",
      "       '당사멤버쉽_방문횟수_B0M', '당사멤버쉽_방문횟수_R6M', '당사멤버쉽_방문월수_R6M', '홈페이지_금융건수_R6M',\n",
      "       '홈페이지_선결제건수_R6M', '홈페이지_금융건수_R3M', '홈페이지_선결제건수_R3M', 'Segment',\n",
      "       '인입횟수_ARS_R6M_num_ord', '이용메뉴건수_ARS_R6M_num_ord', '방문일수_PC_R6M_num_ord',\n",
      "       '방문횟수_앱_R6M_num_ord'],\n",
      "      dtype='object')\n"
     ]
    }
   ],
   "source": [
    "# 삭제할 피처 리스트 \n",
    "drop_cols = ['방문월수_PC_R6M', '방문일수_PC_R6M']\n",
    "\n",
    "# 존재하는 컬럼만 필터링\n",
    "to_drop = [col for col in drop_cols if col in df.columns]\n",
    "\n",
    "# 컬럼 삭제\n",
    "df.drop(columns=to_drop, inplace=True)\n",
    "\n",
    "# 삭제 확인\n",
    "print(df.columns)"
   ]
  },
  {
   "cell_type": "markdown",
   "id": "b18e3245-1f17-4d61-b522-1ae119eaa8fa",
   "metadata": {},
   "source": [
    "### 4. 앱 그룹"
   ]
  },
  {
   "cell_type": "code",
   "execution_count": 21,
   "id": "d07988cb-daa6-42a6-9b9b-44f48e82750f",
   "metadata": {},
   "outputs": [
    {
     "name": "stdout",
     "output_type": "stream",
     "text": [
      "방문일수_앱_R6M vs Segment η²: 0.025\n",
      "방문월수_앱_R6M vs Segment η²: 0.026\n",
      "방문후경과월_앱_R6M vs Segment η²: 0.028\n",
      "방문횟수_앱_B0M vs Segment η²: 0.027\n",
      "방문일수_앱_B0M vs Segment η²: 0.026\n"
     ]
    }
   ],
   "source": [
    "# 비교하고 싶은 그룹 변수 리스트\n",
    "group_cols = ['방문일수_앱_R6M', '방문월수_앱_R6M', '방문후경과월_앱_R6M', '방문횟수_앱_B0M', '방문일수_앱_B0M']\n",
    "\n",
    "# 각 변수에 대해 η² 계산\n",
    "for col in group_cols:\n",
    "    η2 = eta_squared(df['Segment'], df[col])\n",
    "    print(f\"{col} vs Segment η²: {η2:.3f}\")"
   ]
  },
  {
   "cell_type": "code",
   "execution_count": 22,
   "id": "ae9fb540-43ab-4be9-a43b-78453b35db6c",
   "metadata": {},
   "outputs": [
    {
     "name": "stdout",
     "output_type": "stream",
     "text": [
      "       variable       VIF\n",
      "0  방문후경과월_앱_R6M  1.000000\n",
      "1         const  5.073123\n"
     ]
    }
   ],
   "source": [
    "# 그룹 변수 리스트 정의\n",
    "ars_cols = ['방문후경과월_앱_R6M']\n",
    "\n",
    "# 그룹 내 다중공선성 확인\n",
    "vif_ars = compute_vif(df, ars_cols)\n",
    "print(vif_ars)"
   ]
  },
  {
   "cell_type": "code",
   "execution_count": 23,
   "id": "69000785-489d-4856-8219-8e177cf74bd7",
   "metadata": {},
   "outputs": [],
   "source": [
    "# 삭제할 피처 리스트 \n",
    "drop_cols = ['방문일수_앱_R6M', '방문횟수_앱_B0M', '방문일수_앱_B0M', '방문월수_앱_R6M']\n",
    "\n",
    "# 삭제\n",
    "df.drop(columns=drop_cols, inplace = True)"
   ]
  },
  {
   "cell_type": "markdown",
   "id": "776cee21-b716-465d-aeea-bc10b331f16a",
   "metadata": {},
   "source": [
    "### 5. 모바일웹 그룹"
   ]
  },
  {
   "cell_type": "code",
   "execution_count": 24,
   "id": "78700b98-69b4-4175-b523-3e9a90f8685c",
   "metadata": {},
   "outputs": [
    {
     "name": "stdout",
     "output_type": "stream",
     "text": [
      "방문횟수_모바일웹_R6M vs Segment η²: 0.005\n",
      "방문일수_모바일웹_R6M vs Segment η²: 0.005\n",
      "방문월수_모바일웹_R6M vs Segment η²: 0.005\n",
      "방문후경과월_모바일웹_R6M vs Segment η²: 0.002\n"
     ]
    }
   ],
   "source": [
    "# 비교하고 싶은 그룹 변수 리스트\n",
    "group_cols = ['방문횟수_모바일웹_R6M', '방문일수_모바일웹_R6M', '방문월수_모바일웹_R6M', '방문후경과월_모바일웹_R6M']\n",
    "\n",
    "# 각 변수에 대해 η² 계산\n",
    "for col in group_cols:\n",
    "    η2 = eta_squared(df['Segment'], df[col])\n",
    "    print(f\"{col} vs Segment η²: {η2:.3f}\")"
   ]
  },
  {
   "cell_type": "code",
   "execution_count": 25,
   "id": "e74b5454-7441-4716-b091-c794ca853f2b",
   "metadata": {},
   "outputs": [
    {
     "name": "stdout",
     "output_type": "stream",
     "text": [
      "Index(['기준년월', 'ID', '인입일수_ARS_R6M', '인입월수_ARS_R6M', '인입횟수_ARS_B0M',\n",
      "       '이용메뉴건수_ARS_B0M', '방문후경과월_PC_R6M', '방문후경과월_앱_R6M', '방문횟수_PC_B0M',\n",
      "       '방문일수_PC_B0M', '인입횟수_IB_R6M', '인입일수_IB_R6M', '인입월수_IB_R6M',\n",
      "       '이용메뉴건수_IB_R6M', '인입후경과월_IB_R6M', '인입횟수_IB_B0M', '인입일수_IB_B0M',\n",
      "       '이용메뉴건수_IB_B0M', '상담건수_B0M', 'IB문의건수_선결제_B0M', '상담건수_R6M',\n",
      "       'IB문의건수_사용승인내역_R6M', 'IB문의건수_한도_R6M', 'IB문의건수_선결제_R6M', 'IB문의건수_결제_R6M',\n",
      "       'IB문의건수_정보변경_R6M', 'IB문의건수_결제일변경_R6M', 'IB문의건수_카드발급_R6M',\n",
      "       'IB문의건수_분실도난_R6M', 'IB문의건수_CL_RV_R6M', 'IB문의건수_CS_R6M', '불만제기후경과월_R12M',\n",
      "       '당사멤버쉽_방문횟수_B0M', '당사멤버쉽_방문횟수_R6M', '당사멤버쉽_방문월수_R6M', '홈페이지_금융건수_R6M',\n",
      "       '홈페이지_선결제건수_R6M', '홈페이지_금융건수_R3M', '홈페이지_선결제건수_R3M', 'Segment',\n",
      "       '인입횟수_ARS_R6M_num_ord', '이용메뉴건수_ARS_R6M_num_ord', '방문일수_PC_R6M_num_ord',\n",
      "       '방문횟수_앱_R6M_num_ord'],\n",
      "      dtype='object')\n"
     ]
    }
   ],
   "source": [
    "# 삭제할 피처 리스트 (>0.01이 아닌, 거의 효과가 없는 것)\n",
    "drop_cols = ['방문횟수_모바일웹_R6M', '방문일수_모바일웹_R6M', '방문월수_모바일웹_R6M', '방문후경과월_모바일웹_R6M']\n",
    "\n",
    "# 삭제\n",
    "df.drop(columns=drop_cols, inplace = True)\n",
    "\n",
    "# 삭제 확인\n",
    "print(df.columns)"
   ]
  },
  {
   "cell_type": "markdown",
   "id": "98304d37-a1ad-4f4a-9362-07f8118b5f71",
   "metadata": {},
   "source": [
    "### 6. IB 기본 그룹"
   ]
  },
  {
   "cell_type": "code",
   "execution_count": 26,
   "id": "c7cf2482-32ca-4e2d-80ed-1704c910a37b",
   "metadata": {},
   "outputs": [
    {
     "name": "stdout",
     "output_type": "stream",
     "text": [
      "인입횟수_IB_R6M vs Segment η²: 0.020\n",
      "인입일수_IB_R6M vs Segment η²: 0.021\n",
      "인입월수_IB_R6M vs Segment η²: 0.021\n",
      "인입후경과월_IB_R6M vs Segment η²: 0.015\n",
      "인입횟수_IB_B0M vs Segment η²: 0.005\n",
      "인입일수_IB_B0M vs Segment η²: 0.004\n"
     ]
    }
   ],
   "source": [
    "# 비교하고 싶은 그룹 변수 리스트\n",
    "group_cols = ['인입횟수_IB_R6M', '인입일수_IB_R6M', '인입월수_IB_R6M', '인입후경과월_IB_R6M', '인입횟수_IB_B0M', '인입일수_IB_B0M']\n",
    "\n",
    "# 각 변수에 대해 η² 계산\n",
    "for col in group_cols:\n",
    "    η2 = eta_squared(df['Segment'], df[col])\n",
    "    print(f\"{col} vs Segment η²: {η2:.3f}\")"
   ]
  },
  {
   "cell_type": "code",
   "execution_count": 27,
   "id": "d2ef8a97-931c-480d-9bc4-043a54764713",
   "metadata": {},
   "outputs": [
    {
     "name": "stdout",
     "output_type": "stream",
     "text": [
      "Index(['기준년월', 'ID', '인입일수_ARS_R6M', '인입월수_ARS_R6M', '인입횟수_ARS_B0M',\n",
      "       '이용메뉴건수_ARS_B0M', '방문후경과월_PC_R6M', '방문후경과월_앱_R6M', '방문횟수_PC_B0M',\n",
      "       '방문일수_PC_B0M', '인입횟수_IB_R6M', '인입일수_IB_R6M', '인입월수_IB_R6M',\n",
      "       '이용메뉴건수_IB_R6M', '인입후경과월_IB_R6M', '이용메뉴건수_IB_B0M', '상담건수_B0M',\n",
      "       'IB문의건수_선결제_B0M', '상담건수_R6M', 'IB문의건수_사용승인내역_R6M', 'IB문의건수_한도_R6M',\n",
      "       'IB문의건수_선결제_R6M', 'IB문의건수_결제_R6M', 'IB문의건수_정보변경_R6M',\n",
      "       'IB문의건수_결제일변경_R6M', 'IB문의건수_카드발급_R6M', 'IB문의건수_분실도난_R6M',\n",
      "       'IB문의건수_CL_RV_R6M', 'IB문의건수_CS_R6M', '불만제기후경과월_R12M', '당사멤버쉽_방문횟수_B0M',\n",
      "       '당사멤버쉽_방문횟수_R6M', '당사멤버쉽_방문월수_R6M', '홈페이지_금융건수_R6M', '홈페이지_선결제건수_R6M',\n",
      "       '홈페이지_금융건수_R3M', '홈페이지_선결제건수_R3M', 'Segment', '인입횟수_ARS_R6M_num_ord',\n",
      "       '이용메뉴건수_ARS_R6M_num_ord', '방문일수_PC_R6M_num_ord', '방문횟수_앱_R6M_num_ord'],\n",
      "      dtype='object')\n"
     ]
    }
   ],
   "source": [
    "# 삭제할 피처 리스트 (>0.01이 아닌, 거의 효과가 없는 것)\n",
    "drop_cols = ['인입횟수_IB_B0M', '인입일수_IB_B0M']\n",
    "\n",
    "# 삭제\n",
    "df.drop(columns=drop_cols, inplace = True)\n",
    "\n",
    "# 삭제 확인\n",
    "print(df.columns)"
   ]
  },
  {
   "cell_type": "code",
   "execution_count": 28,
   "id": "3c18fbe5-b103-4f9e-8a2f-256495839f95",
   "metadata": {},
   "outputs": [
    {
     "name": "stdout",
     "output_type": "stream",
     "text": [
      "        variable        VIF\n",
      "0    인입일수_IB_R6M   5.265699\n",
      "1    인입월수_IB_R6M   5.929108\n",
      "2  인입후경과월_IB_R6M   3.210464\n",
      "3          const  37.474989\n"
     ]
    }
   ],
   "source": [
    "# 그룹 변수 리스트 정의\n",
    "ars_cols =['인입일수_IB_R6M', '인입월수_IB_R6M', '인입후경과월_IB_R6M']\n",
    "\n",
    "\n",
    "# 그룹 내 다중공선성 확인\n",
    "vif_ars = compute_vif(df, ars_cols)\n",
    "print(vif_ars)"
   ]
  },
  {
   "cell_type": "code",
   "execution_count": 29,
   "id": "323d9f76-d967-43a0-851a-b62b11a7aae5",
   "metadata": {},
   "outputs": [],
   "source": [
    "# 삭제할 피처 리스트 \n",
    "drop_cols = ['인입횟수_IB_R6M']\n",
    "\n",
    "# 삭제\n",
    "df.drop(columns=drop_cols, inplace = True)"
   ]
  },
  {
   "cell_type": "markdown",
   "id": "1c0b6dca-ff58-48ed-a075-5a34f9d8c610",
   "metadata": {},
   "source": [
    "### 7. IB_사용승인내역 그룹"
   ]
  },
  {
   "cell_type": "code",
   "execution_count": 30,
   "id": "e82cd1a7-d3e5-40a4-a358-a94530ec480e",
   "metadata": {},
   "outputs": [
    {
     "name": "stdout",
     "output_type": "stream",
     "text": [
      "인입월수_IB_R6M vs Segment η²: 0.021\n",
      "인입후경과월_IB_R6M vs Segment η²: 0.015\n",
      "인입일수_IB_R6M vs Segment η²: 0.021\n"
     ]
    }
   ],
   "source": [
    "# 비교하고 싶은 그룹 변수 리스트\n",
    "group_cols = ['인입월수_IB_R6M', '인입후경과월_IB_R6M', '인입일수_IB_R6M']\n",
    "\n",
    "# 각 변수에 대해 η² 계산\n",
    "for col in group_cols:\n",
    "    η2 = eta_squared(df['Segment'], df[col])\n",
    "    print(f\"{col} vs Segment η²: {η2:.3f}\")"
   ]
  },
  {
   "cell_type": "code",
   "execution_count": 31,
   "id": "7cbea0ed-e051-48ed-9f60-1ff595129df9",
   "metadata": {},
   "outputs": [
    {
     "name": "stdout",
     "output_type": "stream",
     "text": [
      "        variable        VIF\n",
      "0    인입월수_IB_R6M   5.929108\n",
      "1  인입후경과월_IB_R6M   3.210464\n",
      "2    인입일수_IB_R6M   5.265699\n",
      "3          const  37.474989\n"
     ]
    }
   ],
   "source": [
    "# 그룹 변수 리스트 정의\n",
    "ars_cols = ['인입월수_IB_R6M', '인입후경과월_IB_R6M', '인입일수_IB_R6M']\n",
    "\n",
    "# 그룹 내 다중공선성 확인\n",
    "vif_ars = compute_vif(df, ars_cols)\n",
    "print(vif_ars)"
   ]
  },
  {
   "cell_type": "markdown",
   "id": "fc633f03-3c8b-40db-9925-25fb852e39e4",
   "metadata": {},
   "source": [
    "### 8. IB_한도 그룹"
   ]
  },
  {
   "cell_type": "code",
   "execution_count": 32,
   "id": "38153dc6-e7dc-422d-b077-7b7dd55affd9",
   "metadata": {},
   "outputs": [
    {
     "name": "stdout",
     "output_type": "stream",
     "text": [
      "IB문의건수_한도_R6M vs Segment η²: 0.000\n"
     ]
    }
   ],
   "source": [
    "# 비교하고 싶은 그룹 변수 리스트\n",
    "group_cols = ['IB문의건수_한도_R6M']\n",
    "\n",
    "# 각 변수에 대해 η² 계산\n",
    "for col in group_cols:\n",
    "    η2 = eta_squared(df['Segment'], df[col])\n",
    "    print(f\"{col} vs Segment η²: {η2:.3f}\")"
   ]
  },
  {
   "cell_type": "code",
   "execution_count": 33,
   "id": "649741c0-03ad-447b-a0b3-6c819a783765",
   "metadata": {},
   "outputs": [
    {
     "name": "stdout",
     "output_type": "stream",
     "text": [
      "Index(['기준년월', 'ID', '인입일수_ARS_R6M', '인입월수_ARS_R6M', '인입횟수_ARS_B0M',\n",
      "       '이용메뉴건수_ARS_B0M', '방문후경과월_PC_R6M', '방문후경과월_앱_R6M', '방문횟수_PC_B0M',\n",
      "       '방문일수_PC_B0M', '인입일수_IB_R6M', '인입월수_IB_R6M', '이용메뉴건수_IB_R6M',\n",
      "       '인입후경과월_IB_R6M', '이용메뉴건수_IB_B0M', '상담건수_B0M', 'IB문의건수_선결제_B0M',\n",
      "       '상담건수_R6M', 'IB문의건수_사용승인내역_R6M', 'IB문의건수_선결제_R6M', 'IB문의건수_결제_R6M',\n",
      "       'IB문의건수_정보변경_R6M', 'IB문의건수_결제일변경_R6M', 'IB문의건수_카드발급_R6M',\n",
      "       'IB문의건수_분실도난_R6M', 'IB문의건수_CL_RV_R6M', 'IB문의건수_CS_R6M', '불만제기후경과월_R12M',\n",
      "       '당사멤버쉽_방문횟수_B0M', '당사멤버쉽_방문횟수_R6M', '당사멤버쉽_방문월수_R6M', '홈페이지_금융건수_R6M',\n",
      "       '홈페이지_선결제건수_R6M', '홈페이지_금융건수_R3M', '홈페이지_선결제건수_R3M', 'Segment',\n",
      "       '인입횟수_ARS_R6M_num_ord', '이용메뉴건수_ARS_R6M_num_ord', '방문일수_PC_R6M_num_ord',\n",
      "       '방문횟수_앱_R6M_num_ord'],\n",
      "      dtype='object')\n"
     ]
    }
   ],
   "source": [
    "# 삭제할 피처 리스트 (>0.01이 아닌, 거의 효과가 없는 것)\n",
    "drop_cols = ['IB문의건수_한도_R6M']\n",
    "\n",
    "# 삭제\n",
    "df.drop(columns=drop_cols, inplace = True)\n",
    "\n",
    "# 삭제 확인\n",
    "print(df.columns)"
   ]
  },
  {
   "cell_type": "markdown",
   "id": "94cc8eae-a7fc-457e-8e8f-ca4c67c4cc51",
   "metadata": {},
   "source": [
    "### 9. IB_선결제 그룹"
   ]
  },
  {
   "cell_type": "code",
   "execution_count": 34,
   "id": "76589718-eda3-4737-a9f3-193172e5ec34",
   "metadata": {},
   "outputs": [
    {
     "name": "stdout",
     "output_type": "stream",
     "text": [
      "IB문의건수_선결제_R6M vs Segment η²: 0.011\n",
      "IB문의건수_선결제_B0M vs Segment η²: 0.002\n"
     ]
    }
   ],
   "source": [
    "# 비교하고 싶은 그룹 변수 리스트\n",
    "group_cols = ['IB문의건수_선결제_R6M', 'IB문의건수_선결제_B0M']\n",
    "\n",
    "# 각 변수에 대해 η² 계산\n",
    "for col in group_cols:\n",
    "    η2 = eta_squared(df['Segment'], df[col])\n",
    "    print(f\"{col} vs Segment η²: {η2:.3f}\")"
   ]
  },
  {
   "cell_type": "code",
   "execution_count": 35,
   "id": "7791d5b5-fdba-4a14-a944-0b2be8aa59c4",
   "metadata": {},
   "outputs": [
    {
     "name": "stdout",
     "output_type": "stream",
     "text": [
      "Index(['기준년월', 'ID', '인입일수_ARS_R6M', '인입월수_ARS_R6M', '인입횟수_ARS_B0M',\n",
      "       '이용메뉴건수_ARS_B0M', '방문후경과월_PC_R6M', '방문후경과월_앱_R6M', '방문횟수_PC_B0M',\n",
      "       '방문일수_PC_B0M', '인입일수_IB_R6M', '인입월수_IB_R6M', '이용메뉴건수_IB_R6M',\n",
      "       '인입후경과월_IB_R6M', '이용메뉴건수_IB_B0M', '상담건수_B0M', '상담건수_R6M',\n",
      "       'IB문의건수_사용승인내역_R6M', 'IB문의건수_선결제_R6M', 'IB문의건수_결제_R6M',\n",
      "       'IB문의건수_정보변경_R6M', 'IB문의건수_결제일변경_R6M', 'IB문의건수_카드발급_R6M',\n",
      "       'IB문의건수_분실도난_R6M', 'IB문의건수_CL_RV_R6M', 'IB문의건수_CS_R6M', '불만제기후경과월_R12M',\n",
      "       '당사멤버쉽_방문횟수_B0M', '당사멤버쉽_방문횟수_R6M', '당사멤버쉽_방문월수_R6M', '홈페이지_금융건수_R6M',\n",
      "       '홈페이지_선결제건수_R6M', '홈페이지_금융건수_R3M', '홈페이지_선결제건수_R3M', 'Segment',\n",
      "       '인입횟수_ARS_R6M_num_ord', '이용메뉴건수_ARS_R6M_num_ord', '방문일수_PC_R6M_num_ord',\n",
      "       '방문횟수_앱_R6M_num_ord'],\n",
      "      dtype='object')\n"
     ]
    }
   ],
   "source": [
    "# 삭제할 피처 리스트 (>0.01이 아닌, 거의 효과가 없는 것)\n",
    "drop_cols = ['IB문의건수_선결제_B0M']\n",
    "\n",
    "# 삭제\n",
    "df.drop(columns=drop_cols, inplace = True)\n",
    "\n",
    "# 삭제 확인\n",
    "print(df.columns)"
   ]
  },
  {
   "cell_type": "markdown",
   "id": "9d169903-4e2f-4f4c-bffe-086184f03586",
   "metadata": {},
   "source": [
    "### 10. IB_결제 그룹"
   ]
  },
  {
   "cell_type": "code",
   "execution_count": 36,
   "id": "767a212a-dae0-40d6-b526-ebd12b45e934",
   "metadata": {},
   "outputs": [
    {
     "name": "stdout",
     "output_type": "stream",
     "text": [
      "IB문의건수_결제_R6M vs Segment η²: 0.001\n"
     ]
    }
   ],
   "source": [
    "# 비교하고 싶은 그룹 변수 리스트\n",
    "group_cols = ['IB문의건수_결제_R6M']\n",
    "\n",
    "# 각 변수에 대해 η² 계산\n",
    "for col in group_cols:\n",
    "    η2 = eta_squared(df['Segment'], df[col])\n",
    "    print(f\"{col} vs Segment η²: {η2:.3f}\")"
   ]
  },
  {
   "cell_type": "code",
   "execution_count": 37,
   "id": "cf429355-28df-4d99-bf92-44fac1900afc",
   "metadata": {},
   "outputs": [
    {
     "name": "stdout",
     "output_type": "stream",
     "text": [
      "Index(['기준년월', 'ID', '인입일수_ARS_R6M', '인입월수_ARS_R6M', '인입횟수_ARS_B0M',\n",
      "       '이용메뉴건수_ARS_B0M', '방문후경과월_PC_R6M', '방문후경과월_앱_R6M', '방문횟수_PC_B0M',\n",
      "       '방문일수_PC_B0M', '인입일수_IB_R6M', '인입월수_IB_R6M', '이용메뉴건수_IB_R6M',\n",
      "       '인입후경과월_IB_R6M', '이용메뉴건수_IB_B0M', '상담건수_B0M', '상담건수_R6M',\n",
      "       'IB문의건수_사용승인내역_R6M', 'IB문의건수_선결제_R6M', 'IB문의건수_정보변경_R6M',\n",
      "       'IB문의건수_결제일변경_R6M', 'IB문의건수_카드발급_R6M', 'IB문의건수_분실도난_R6M',\n",
      "       'IB문의건수_CL_RV_R6M', 'IB문의건수_CS_R6M', '불만제기후경과월_R12M', '당사멤버쉽_방문횟수_B0M',\n",
      "       '당사멤버쉽_방문횟수_R6M', '당사멤버쉽_방문월수_R6M', '홈페이지_금융건수_R6M', '홈페이지_선결제건수_R6M',\n",
      "       '홈페이지_금융건수_R3M', '홈페이지_선결제건수_R3M', 'Segment', '인입횟수_ARS_R6M_num_ord',\n",
      "       '이용메뉴건수_ARS_R6M_num_ord', '방문일수_PC_R6M_num_ord', '방문횟수_앱_R6M_num_ord'],\n",
      "      dtype='object')\n"
     ]
    }
   ],
   "source": [
    "# 삭제할 피처 리스트 (>0.01이 아닌, 거의 효과가 없는 것)\n",
    "drop_cols = ['IB문의건수_결제_R6M']\n",
    "\n",
    "# 삭제\n",
    "df.drop(columns=drop_cols, inplace = True)\n",
    "\n",
    "# 삭제 확인\n",
    "print(df.columns)"
   ]
  },
  {
   "cell_type": "markdown",
   "id": "b07567ee-a38f-408d-9e92-3ffe42ab2ce0",
   "metadata": {},
   "source": [
    "### 11. IB_정보변경 그룹"
   ]
  },
  {
   "cell_type": "code",
   "execution_count": 38,
   "id": "4f95dd34-817b-4b29-865f-b29a03aa4dc3",
   "metadata": {},
   "outputs": [
    {
     "name": "stdout",
     "output_type": "stream",
     "text": [
      "IB문의건수_정보변경_R6M vs Segment η²: 0.000\n",
      "IB문의건수_결제일변경_R6M vs Segment η²: 0.000\n"
     ]
    }
   ],
   "source": [
    "# 비교하고 싶은 그룹 변수 리스트\n",
    "group_cols = ['IB문의건수_정보변경_R6M', 'IB문의건수_결제일변경_R6M']\n",
    "\n",
    "# 각 변수에 대해 η² 계산\n",
    "for col in group_cols:\n",
    "    η2 = eta_squared(df['Segment'], df[col])\n",
    "    print(f\"{col} vs Segment η²: {η2:.3f}\")"
   ]
  },
  {
   "cell_type": "code",
   "execution_count": 39,
   "id": "a0e223d0-b0e7-45ce-820f-a3eedddeb1bd",
   "metadata": {},
   "outputs": [
    {
     "name": "stdout",
     "output_type": "stream",
     "text": [
      "Index(['기준년월', 'ID', '인입일수_ARS_R6M', '인입월수_ARS_R6M', '인입횟수_ARS_B0M',\n",
      "       '이용메뉴건수_ARS_B0M', '방문후경과월_PC_R6M', '방문후경과월_앱_R6M', '방문횟수_PC_B0M',\n",
      "       '방문일수_PC_B0M', '인입일수_IB_R6M', '인입월수_IB_R6M', '이용메뉴건수_IB_R6M',\n",
      "       '인입후경과월_IB_R6M', '이용메뉴건수_IB_B0M', '상담건수_B0M', '상담건수_R6M',\n",
      "       'IB문의건수_사용승인내역_R6M', 'IB문의건수_선결제_R6M', 'IB문의건수_카드발급_R6M',\n",
      "       'IB문의건수_분실도난_R6M', 'IB문의건수_CL_RV_R6M', 'IB문의건수_CS_R6M', '불만제기후경과월_R12M',\n",
      "       '당사멤버쉽_방문횟수_B0M', '당사멤버쉽_방문횟수_R6M', '당사멤버쉽_방문월수_R6M', '홈페이지_금융건수_R6M',\n",
      "       '홈페이지_선결제건수_R6M', '홈페이지_금융건수_R3M', '홈페이지_선결제건수_R3M', 'Segment',\n",
      "       '인입횟수_ARS_R6M_num_ord', '이용메뉴건수_ARS_R6M_num_ord', '방문일수_PC_R6M_num_ord',\n",
      "       '방문횟수_앱_R6M_num_ord'],\n",
      "      dtype='object')\n"
     ]
    }
   ],
   "source": [
    "# 삭제할 피처 리스트 (>0.01이 아닌, 거의 효과가 없는 것)\n",
    "drop_cols = ['IB문의건수_정보변경_R6M', 'IB문의건수_결제일변경_R6M']\n",
    "\n",
    "# 삭제\n",
    "df.drop(columns=drop_cols, inplace = True)\n",
    "\n",
    "# 삭제 확인\n",
    "print(df.columns)"
   ]
  },
  {
   "cell_type": "markdown",
   "id": "0bf02fb8-f767-4918-a2bc-f318b07b7498",
   "metadata": {},
   "source": [
    "### 12. IB_카드발급 그룹"
   ]
  },
  {
   "cell_type": "code",
   "execution_count": 40,
   "id": "868bc7fc-27c2-4b13-b858-bac5db5f218d",
   "metadata": {},
   "outputs": [
    {
     "name": "stdout",
     "output_type": "stream",
     "text": [
      "IB문의건수_카드발급_R6M vs Segment η²: 0.002\n"
     ]
    }
   ],
   "source": [
    "# 비교하고 싶은 그룹 변수 리스트\n",
    "group_cols = ['IB문의건수_카드발급_R6M']\n",
    "\n",
    "# 각 변수에 대해 η² 계산\n",
    "for col in group_cols:\n",
    "    η2 = eta_squared(df['Segment'], df[col])\n",
    "    print(f\"{col} vs Segment η²: {η2:.3f}\")"
   ]
  },
  {
   "cell_type": "code",
   "execution_count": 41,
   "id": "0fd7646e-b8d2-4497-a60e-d99dc8b5992b",
   "metadata": {},
   "outputs": [
    {
     "name": "stdout",
     "output_type": "stream",
     "text": [
      "Index(['기준년월', 'ID', '인입일수_ARS_R6M', '인입월수_ARS_R6M', '인입횟수_ARS_B0M',\n",
      "       '이용메뉴건수_ARS_B0M', '방문후경과월_PC_R6M', '방문후경과월_앱_R6M', '방문횟수_PC_B0M',\n",
      "       '방문일수_PC_B0M', '인입일수_IB_R6M', '인입월수_IB_R6M', '이용메뉴건수_IB_R6M',\n",
      "       '인입후경과월_IB_R6M', '이용메뉴건수_IB_B0M', '상담건수_B0M', '상담건수_R6M',\n",
      "       'IB문의건수_사용승인내역_R6M', 'IB문의건수_선결제_R6M', 'IB문의건수_분실도난_R6M',\n",
      "       'IB문의건수_CL_RV_R6M', 'IB문의건수_CS_R6M', '불만제기후경과월_R12M', '당사멤버쉽_방문횟수_B0M',\n",
      "       '당사멤버쉽_방문횟수_R6M', '당사멤버쉽_방문월수_R6M', '홈페이지_금융건수_R6M', '홈페이지_선결제건수_R6M',\n",
      "       '홈페이지_금융건수_R3M', '홈페이지_선결제건수_R3M', 'Segment', '인입횟수_ARS_R6M_num_ord',\n",
      "       '이용메뉴건수_ARS_R6M_num_ord', '방문일수_PC_R6M_num_ord', '방문횟수_앱_R6M_num_ord'],\n",
      "      dtype='object')\n"
     ]
    }
   ],
   "source": [
    "# 삭제할 피처 리스트 (>0.01이 아닌, 거의 효과가 없는 것)\n",
    "drop_cols = ['IB문의건수_카드발급_R6M']\n",
    "\n",
    "# 삭제\n",
    "df.drop(columns=drop_cols, inplace = True)\n",
    "\n",
    "# 삭제 확인\n",
    "print(df.columns)"
   ]
  },
  {
   "cell_type": "markdown",
   "id": "f6757a13-0886-43db-87b6-e9ef40fba11e",
   "metadata": {},
   "source": [
    "### 13. IB_BL 그룹"
   ]
  },
  {
   "cell_type": "code",
   "execution_count": 42,
   "id": "c506d72c-42a9-4d6f-966d-eec1828086a7",
   "metadata": {},
   "outputs": [
    {
     "name": "stdout",
     "output_type": "stream",
     "text": [
      "IB문의건수_CL_RV_R6M vs Segment η²: 0.000\n"
     ]
    }
   ],
   "source": [
    "# 비교하고 싶은 그룹 변수 리스트\n",
    "group_cols = ['IB문의건수_CL_RV_R6M']\n",
    "\n",
    "# 각 변수에 대해 η² 계산\n",
    "for col in group_cols:\n",
    "    η2 = eta_squared(df['Segment'], df[col])\n",
    "    print(f\"{col} vs Segment η²: {η2:.3f}\")"
   ]
  },
  {
   "cell_type": "code",
   "execution_count": 43,
   "id": "cb2472b1-37a1-4049-a9e5-02a99021526c",
   "metadata": {},
   "outputs": [
    {
     "name": "stdout",
     "output_type": "stream",
     "text": [
      "Index(['기준년월', 'ID', '인입일수_ARS_R6M', '인입월수_ARS_R6M', '인입횟수_ARS_B0M',\n",
      "       '이용메뉴건수_ARS_B0M', '방문후경과월_PC_R6M', '방문후경과월_앱_R6M', '방문횟수_PC_B0M',\n",
      "       '방문일수_PC_B0M', '인입일수_IB_R6M', '인입월수_IB_R6M', '이용메뉴건수_IB_R6M',\n",
      "       '인입후경과월_IB_R6M', '이용메뉴건수_IB_B0M', '상담건수_B0M', '상담건수_R6M',\n",
      "       'IB문의건수_사용승인내역_R6M', 'IB문의건수_선결제_R6M', 'IB문의건수_분실도난_R6M',\n",
      "       'IB문의건수_CS_R6M', '불만제기후경과월_R12M', '당사멤버쉽_방문횟수_B0M', '당사멤버쉽_방문횟수_R6M',\n",
      "       '당사멤버쉽_방문월수_R6M', '홈페이지_금융건수_R6M', '홈페이지_선결제건수_R6M', '홈페이지_금융건수_R3M',\n",
      "       '홈페이지_선결제건수_R3M', 'Segment', '인입횟수_ARS_R6M_num_ord',\n",
      "       '이용메뉴건수_ARS_R6M_num_ord', '방문일수_PC_R6M_num_ord', '방문횟수_앱_R6M_num_ord'],\n",
      "      dtype='object')\n"
     ]
    }
   ],
   "source": [
    "# 삭제할 피처 리스트 (>0.01이 아닌, 거의 효과가 없는 것)\n",
    "drop_cols = ['IB문의건수_CL_RV_R6M']\n",
    "\n",
    "# 삭제\n",
    "df.drop(columns=drop_cols, inplace = True)\n",
    "\n",
    "# 삭제 확인\n",
    "print(df.columns)"
   ]
  },
  {
   "cell_type": "markdown",
   "id": "4bddc4db-6ac3-4219-a153-58a5da366131",
   "metadata": {},
   "source": [
    "### 14. IB_분실도난"
   ]
  },
  {
   "cell_type": "code",
   "execution_count": 44,
   "id": "b10e0eb0-b4d7-4d19-b4a1-f8043cd7751f",
   "metadata": {},
   "outputs": [
    {
     "name": "stdout",
     "output_type": "stream",
     "text": [
      "IB문의건수_분실도난_R6M vs Segment η²: 0.002\n"
     ]
    }
   ],
   "source": [
    "# 비교하고 싶은 그룹 변수 리스트\n",
    "group_cols = ['IB문의건수_분실도난_R6M']\n",
    "\n",
    "# 각 변수에 대해 η² 계산\n",
    "for col in group_cols:\n",
    "    η2 = eta_squared(df['Segment'], df[col])\n",
    "    print(f\"{col} vs Segment η²: {η2:.3f}\")"
   ]
  },
  {
   "cell_type": "code",
   "execution_count": 45,
   "id": "b05a472b-f54e-404a-affb-e981a71a6d07",
   "metadata": {},
   "outputs": [
    {
     "name": "stdout",
     "output_type": "stream",
     "text": [
      "Index(['기준년월', 'ID', '인입일수_ARS_R6M', '인입월수_ARS_R6M', '인입횟수_ARS_B0M',\n",
      "       '이용메뉴건수_ARS_B0M', '방문후경과월_PC_R6M', '방문후경과월_앱_R6M', '방문횟수_PC_B0M',\n",
      "       '방문일수_PC_B0M', '인입일수_IB_R6M', '인입월수_IB_R6M', '이용메뉴건수_IB_R6M',\n",
      "       '인입후경과월_IB_R6M', '이용메뉴건수_IB_B0M', '상담건수_B0M', '상담건수_R6M',\n",
      "       'IB문의건수_사용승인내역_R6M', 'IB문의건수_선결제_R6M', 'IB문의건수_CS_R6M', '불만제기후경과월_R12M',\n",
      "       '당사멤버쉽_방문횟수_B0M', '당사멤버쉽_방문횟수_R6M', '당사멤버쉽_방문월수_R6M', '홈페이지_금융건수_R6M',\n",
      "       '홈페이지_선결제건수_R6M', '홈페이지_금융건수_R3M', '홈페이지_선결제건수_R3M', 'Segment',\n",
      "       '인입횟수_ARS_R6M_num_ord', '이용메뉴건수_ARS_R6M_num_ord', '방문일수_PC_R6M_num_ord',\n",
      "       '방문횟수_앱_R6M_num_ord'],\n",
      "      dtype='object')\n"
     ]
    }
   ],
   "source": [
    "# 삭제할 피처 리스트 (>0.01이 아닌, 거의 효과가 없는 것)\n",
    "drop_cols = ['IB문의건수_분실도난_R6M']\n",
    "\n",
    "# 삭제\n",
    "df.drop(columns=drop_cols, inplace = True)\n",
    "\n",
    "# 삭제 확인\n",
    "print(df.columns)"
   ]
  },
  {
   "cell_type": "markdown",
   "id": "b188e0f0-16dd-44b5-a288-17f859e47462",
   "metadata": {},
   "source": [
    "### 15. IB_CS 그룹"
   ]
  },
  {
   "cell_type": "code",
   "execution_count": 46,
   "id": "2fd3613d-0521-4b84-9917-e2cc3e495f38",
   "metadata": {},
   "outputs": [
    {
     "name": "stdout",
     "output_type": "stream",
     "text": [
      "IB문의건수_CS_R6M vs Segment η²: 0.000\n"
     ]
    }
   ],
   "source": [
    "# 비교하고 싶은 그룹 변수 리스트\n",
    "group_cols = ['IB문의건수_CS_R6M']\n",
    "\n",
    "# 각 변수에 대해 η² 계산\n",
    "for col in group_cols:\n",
    "    η2 = eta_squared(df['Segment'], df[col])\n",
    "    print(f\"{col} vs Segment η²: {η2:.3f}\")"
   ]
  },
  {
   "cell_type": "code",
   "execution_count": 47,
   "id": "32e9caa9-382a-4b8a-881d-0f5d2d60e131",
   "metadata": {},
   "outputs": [
    {
     "name": "stdout",
     "output_type": "stream",
     "text": [
      "Index(['기준년월', 'ID', '인입일수_ARS_R6M', '인입월수_ARS_R6M', '인입횟수_ARS_B0M',\n",
      "       '이용메뉴건수_ARS_B0M', '방문후경과월_PC_R6M', '방문후경과월_앱_R6M', '방문횟수_PC_B0M',\n",
      "       '방문일수_PC_B0M', '인입일수_IB_R6M', '인입월수_IB_R6M', '이용메뉴건수_IB_R6M',\n",
      "       '인입후경과월_IB_R6M', '이용메뉴건수_IB_B0M', '상담건수_B0M', '상담건수_R6M',\n",
      "       'IB문의건수_사용승인내역_R6M', 'IB문의건수_선결제_R6M', '불만제기후경과월_R12M',\n",
      "       '당사멤버쉽_방문횟수_B0M', '당사멤버쉽_방문횟수_R6M', '당사멤버쉽_방문월수_R6M', '홈페이지_금융건수_R6M',\n",
      "       '홈페이지_선결제건수_R6M', '홈페이지_금융건수_R3M', '홈페이지_선결제건수_R3M', 'Segment',\n",
      "       '인입횟수_ARS_R6M_num_ord', '이용메뉴건수_ARS_R6M_num_ord', '방문일수_PC_R6M_num_ord',\n",
      "       '방문횟수_앱_R6M_num_ord'],\n",
      "      dtype='object')\n"
     ]
    }
   ],
   "source": [
    "# 삭제할 피처 리스트 (>0.01이 아닌, 거의 효과가 없는 것)\n",
    "drop_cols = ['IB문의건수_CS_R6M']\n",
    "\n",
    "# 삭제\n",
    "df.drop(columns=drop_cols, inplace = True)\n",
    "\n",
    "# 삭제 확인\n",
    "print(df.columns)"
   ]
  },
  {
   "cell_type": "markdown",
   "id": "98e85acb-a422-4c16-bcae-39cb952da963",
   "metadata": {},
   "source": [
    "### 16. 상담건수 그룹"
   ]
  },
  {
   "cell_type": "code",
   "execution_count": 48,
   "id": "c73a5a00-e0a5-4bbd-8f41-6e76712746cc",
   "metadata": {},
   "outputs": [
    {
     "name": "stdout",
     "output_type": "stream",
     "text": [
      "상담건수_R6M vs Segment η²: 0.021\n",
      "상담건수_B0M vs Segment η²: 0.005\n",
      "불만제기후경과월_R12M vs Segment η²: 0.032\n"
     ]
    }
   ],
   "source": [
    "# 비교하고 싶은 그룹 변수 리스트\n",
    "group_cols = ['상담건수_R6M', '상담건수_B0M', '불만제기후경과월_R12M']\n",
    "\n",
    "# 각 변수에 대해 η² 계산\n",
    "for col in group_cols:\n",
    "    η2 = eta_squared(df['Segment'], df[col])\n",
    "    print(f\"{col} vs Segment η²: {η2:.3f}\")"
   ]
  },
  {
   "cell_type": "code",
   "execution_count": 49,
   "id": "4034625f-2474-4c54-8a32-2ff392c9a05c",
   "metadata": {},
   "outputs": [
    {
     "name": "stdout",
     "output_type": "stream",
     "text": [
      "Index(['기준년월', 'ID', '인입일수_ARS_R6M', '인입월수_ARS_R6M', '인입횟수_ARS_B0M',\n",
      "       '이용메뉴건수_ARS_B0M', '방문후경과월_PC_R6M', '방문후경과월_앱_R6M', '방문횟수_PC_B0M',\n",
      "       '방문일수_PC_B0M', '인입일수_IB_R6M', '인입월수_IB_R6M', '이용메뉴건수_IB_R6M',\n",
      "       '인입후경과월_IB_R6M', '이용메뉴건수_IB_B0M', '상담건수_R6M', 'IB문의건수_사용승인내역_R6M',\n",
      "       'IB문의건수_선결제_R6M', '불만제기후경과월_R12M', '당사멤버쉽_방문횟수_B0M', '당사멤버쉽_방문횟수_R6M',\n",
      "       '당사멤버쉽_방문월수_R6M', '홈페이지_금융건수_R6M', '홈페이지_선결제건수_R6M', '홈페이지_금융건수_R3M',\n",
      "       '홈페이지_선결제건수_R3M', 'Segment', '인입횟수_ARS_R6M_num_ord',\n",
      "       '이용메뉴건수_ARS_R6M_num_ord', '방문일수_PC_R6M_num_ord', '방문횟수_앱_R6M_num_ord'],\n",
      "      dtype='object')\n"
     ]
    }
   ],
   "source": [
    "# 삭제할 피처 리스트 (>0.01이 아닌, 거의 효과가 없는 것)\n",
    "drop_cols = ['상담건수_B0M']\n",
    "\n",
    "# 삭제\n",
    "df.drop(columns=drop_cols, inplace = True)\n",
    "\n",
    "# 삭제 확인\n",
    "print(df.columns)"
   ]
  },
  {
   "cell_type": "code",
   "execution_count": 50,
   "id": "f6e0d0ab-e106-4beb-bf4d-d0180ec290ec",
   "metadata": {},
   "outputs": [
    {
     "name": "stdout",
     "output_type": "stream",
     "text": [
      "        variable       VIF\n",
      "0       상담건수_R6M  1.228543\n",
      "1  불만제기후경과월_R12M  1.228543\n",
      "2          const  2.209177\n"
     ]
    }
   ],
   "source": [
    "# 그룹 변수 리스트 정의\n",
    "ars_cols =['상담건수_R6M', '불만제기후경과월_R12M']\n",
    "\n",
    "# 그룹 내 다중공선성 확인\n",
    "vif_ars = compute_vif(df, ars_cols)\n",
    "print(vif_ars)"
   ]
  },
  {
   "cell_type": "markdown",
   "id": "9b2281fa-42a7-4f17-a81f-c9247627a668",
   "metadata": {},
   "source": [
    "### 17. 이용메뉴건수 그룹"
   ]
  },
  {
   "cell_type": "code",
   "execution_count": 51,
   "id": "e5b838b7-61e1-4dca-8a61-8ea3609218b3",
   "metadata": {},
   "outputs": [
    {
     "name": "stdout",
     "output_type": "stream",
     "text": [
      "이용메뉴건수_ARS_B0M vs Segment η²: 0.013\n",
      "이용메뉴건수_IB_B0M vs Segment η²: 0.004\n",
      "이용메뉴건수_IB_R6M vs Segment η²: 0.019\n"
     ]
    }
   ],
   "source": [
    "# 비교하고 싶은 그룹 변수 리스트\n",
    "group_cols = ['이용메뉴건수_ARS_B0M', '이용메뉴건수_IB_B0M', '이용메뉴건수_IB_R6M']\n",
    "\n",
    "# 각 변수에 대해 η² 계산\n",
    "for col in group_cols:\n",
    "    η2 = eta_squared(df['Segment'], df[col])\n",
    "    print(f\"{col} vs Segment η²: {η2:.3f}\")"
   ]
  },
  {
   "cell_type": "code",
   "execution_count": 52,
   "id": "64a78d6f-4d92-48f4-9b5c-104f34c7d2ea",
   "metadata": {},
   "outputs": [
    {
     "name": "stdout",
     "output_type": "stream",
     "text": [
      "Index(['기준년월', 'ID', '인입일수_ARS_R6M', '인입월수_ARS_R6M', '인입횟수_ARS_B0M',\n",
      "       '이용메뉴건수_ARS_B0M', '방문후경과월_PC_R6M', '방문후경과월_앱_R6M', '방문횟수_PC_B0M',\n",
      "       '방문일수_PC_B0M', '인입일수_IB_R6M', '인입월수_IB_R6M', '이용메뉴건수_IB_R6M',\n",
      "       '인입후경과월_IB_R6M', '상담건수_R6M', 'IB문의건수_사용승인내역_R6M', 'IB문의건수_선결제_R6M',\n",
      "       '불만제기후경과월_R12M', '당사멤버쉽_방문횟수_B0M', '당사멤버쉽_방문횟수_R6M', '당사멤버쉽_방문월수_R6M',\n",
      "       '홈페이지_금융건수_R6M', '홈페이지_선결제건수_R6M', '홈페이지_금융건수_R3M', '홈페이지_선결제건수_R3M',\n",
      "       'Segment', '인입횟수_ARS_R6M_num_ord', '이용메뉴건수_ARS_R6M_num_ord',\n",
      "       '방문일수_PC_R6M_num_ord', '방문횟수_앱_R6M_num_ord'],\n",
      "      dtype='object')\n"
     ]
    }
   ],
   "source": [
    "# 삭제할 피처 리스트 (>0.01이 아닌, 거의 효과가 없는 것)\n",
    "drop_cols = ['이용메뉴건수_IB_B0M']\n",
    "\n",
    "# 삭제\n",
    "df.drop(columns=drop_cols, inplace = True)\n",
    "\n",
    "# 삭제 확인\n",
    "print(df.columns)"
   ]
  },
  {
   "cell_type": "code",
   "execution_count": 53,
   "id": "b695d37f-416b-4911-a8ef-94907a7b962d",
   "metadata": {},
   "outputs": [
    {
     "name": "stdout",
     "output_type": "stream",
     "text": [
      "         variable       VIF\n",
      "0  이용메뉴건수_ARS_B0M  1.295400\n",
      "1   이용메뉴건수_IB_R6M  1.295400\n",
      "2           const  1.282465\n"
     ]
    }
   ],
   "source": [
    "# 그룹 변수 리스트 정의\n",
    "ars_cols =['이용메뉴건수_ARS_B0M', '이용메뉴건수_IB_R6M']\n",
    "\n",
    "# 그룹 내 다중공선성 확인\n",
    "vif_ars = compute_vif(df, ars_cols)\n",
    "print(vif_ars)"
   ]
  },
  {
   "cell_type": "markdown",
   "id": "f3244353-988b-4c2a-b445-613950cfb90d",
   "metadata": {},
   "source": [
    "### 18. 당사멤버십 그룹"
   ]
  },
  {
   "cell_type": "code",
   "execution_count": 54,
   "id": "deda63a7-37bc-40cc-8f97-cdfa454bb8e9",
   "metadata": {},
   "outputs": [
    {
     "name": "stdout",
     "output_type": "stream",
     "text": [
      "당사멤버쉽_방문월수_R6M vs Segment η²: 0.019\n",
      "당사멤버쉽_방문횟수_B0M vs Segment η²: 0.009\n",
      "당사멤버쉽_방문횟수_R6M vs Segment η²: 0.010\n"
     ]
    }
   ],
   "source": [
    "# 비교하고 싶은 그룹 변수 리스트\n",
    "group_cols = ['당사멤버쉽_방문월수_R6M', '당사멤버쉽_방문횟수_B0M', '당사멤버쉽_방문횟수_R6M']\n",
    "\n",
    "# 각 변수에 대해 η² 계산\n",
    "for col in group_cols:\n",
    "    η2 = eta_squared(df['Segment'], df[col])\n",
    "    print(f\"{col} vs Segment η²: {η2:.3f}\")"
   ]
  },
  {
   "cell_type": "code",
   "execution_count": 55,
   "id": "7fae2d61-ac1c-42c4-a4e0-eaa3355f0c74",
   "metadata": {},
   "outputs": [
    {
     "name": "stdout",
     "output_type": "stream",
     "text": [
      "Index(['기준년월', 'ID', '인입일수_ARS_R6M', '인입월수_ARS_R6M', '인입횟수_ARS_B0M',\n",
      "       '이용메뉴건수_ARS_B0M', '방문후경과월_PC_R6M', '방문후경과월_앱_R6M', '방문횟수_PC_B0M',\n",
      "       '방문일수_PC_B0M', '인입일수_IB_R6M', '인입월수_IB_R6M', '이용메뉴건수_IB_R6M',\n",
      "       '인입후경과월_IB_R6M', '상담건수_R6M', 'IB문의건수_사용승인내역_R6M', 'IB문의건수_선결제_R6M',\n",
      "       '불만제기후경과월_R12M', '당사멤버쉽_방문횟수_R6M', '당사멤버쉽_방문월수_R6M', '홈페이지_금융건수_R6M',\n",
      "       '홈페이지_선결제건수_R6M', '홈페이지_금융건수_R3M', '홈페이지_선결제건수_R3M', 'Segment',\n",
      "       '인입횟수_ARS_R6M_num_ord', '이용메뉴건수_ARS_R6M_num_ord', '방문일수_PC_R6M_num_ord',\n",
      "       '방문횟수_앱_R6M_num_ord'],\n",
      "      dtype='object')\n"
     ]
    }
   ],
   "source": [
    "# 삭제할 피처 리스트 (>0.01이 아닌, 거의 효과가 없는 것)\n",
    "drop_cols = ['당사멤버쉽_방문횟수_B0M']\n",
    "\n",
    "# 삭제\n",
    "df.drop(columns=drop_cols, inplace = True)\n",
    "\n",
    "# 삭제 확인\n",
    "print(df.columns)"
   ]
  },
  {
   "cell_type": "code",
   "execution_count": 56,
   "id": "148d36e9-d1b9-4326-8862-77cefe738b81",
   "metadata": {},
   "outputs": [
    {
     "name": "stdout",
     "output_type": "stream",
     "text": [
      "         variable       VIF\n",
      "0  당사멤버쉽_방문월수_R6M  2.605378\n",
      "1  당사멤버쉽_방문횟수_R6M  2.605378\n",
      "2           const  1.122375\n"
     ]
    }
   ],
   "source": [
    "# 그룹 변수 리스트 정의\n",
    "ars_cols = ['당사멤버쉽_방문월수_R6M', '당사멤버쉽_방문횟수_R6M']\n",
    "\n",
    "# 그룹 내 다중공선성 확인\n",
    "vif_ars = compute_vif(df, ars_cols)\n",
    "print(vif_ars)"
   ]
  },
  {
   "cell_type": "markdown",
   "id": "b08ce06e-5b1f-4bf3-afb8-616cea7332b2",
   "metadata": {},
   "source": [
    "### 19. 홈페이지_금융 그룹"
   ]
  },
  {
   "cell_type": "code",
   "execution_count": 57,
   "id": "92e2f15a-0307-48e1-b73c-056731f38190",
   "metadata": {},
   "outputs": [
    {
     "name": "stdout",
     "output_type": "stream",
     "text": [
      "홈페이지_금융건수_R3M vs Segment η²: 0.026\n",
      "홈페이지_금융건수_R6M vs Segment η²: 0.029\n"
     ]
    }
   ],
   "source": [
    "# 비교하고 싶은 그룹 변수 리스트\n",
    "group_cols = ['홈페이지_금융건수_R3M', '홈페이지_금융건수_R6M']\n",
    "\n",
    "# 각 변수에 대해 η² 계산\n",
    "for col in group_cols:\n",
    "    η2 = eta_squared(df['Segment'], df[col])\n",
    "    print(f\"{col} vs Segment η²: {η2:.3f}\")"
   ]
  },
  {
   "cell_type": "code",
   "execution_count": 58,
   "id": "e888e6e5-f26c-4de8-9ceb-9de338e35824",
   "metadata": {},
   "outputs": [
    {
     "name": "stdout",
     "output_type": "stream",
     "text": [
      "        variable       VIF\n",
      "0  홈페이지_금융건수_R6M  1.000000\n",
      "1          const  1.121371\n"
     ]
    }
   ],
   "source": [
    "# 그룹 변수 리스트 정의\n",
    "ars_cols =['홈페이지_금융건수_R6M']\n",
    "\n",
    "# 그룹 내 다중공선성 확인\n",
    "vif_ars = compute_vif(df, ars_cols)\n",
    "print(vif_ars)"
   ]
  },
  {
   "cell_type": "code",
   "execution_count": 59,
   "id": "41fbca5a-bcdd-4553-abd3-6892d76689ed",
   "metadata": {},
   "outputs": [],
   "source": [
    "# 삭제할 피처 리스트 \n",
    "drop_cols = ['홈페이지_금융건수_R3M']\n",
    "\n",
    "# 삭제\n",
    "df.drop(columns=drop_cols, inplace = True)"
   ]
  },
  {
   "cell_type": "markdown",
   "id": "790749ca-7c06-4ea6-8e54-6c435c7cd1c3",
   "metadata": {},
   "source": [
    "### 20. 홈페이지_선결제 그룹"
   ]
  },
  {
   "cell_type": "code",
   "execution_count": 60,
   "id": "8f1d2aa5-1132-4faf-a3d6-f05d1bf41280",
   "metadata": {},
   "outputs": [
    {
     "name": "stdout",
     "output_type": "stream",
     "text": [
      "홈페이지_선결제건수_R3M vs Segment η²: 0.023\n",
      "홈페이지_선결제건수_R6M vs Segment η²: 0.024\n"
     ]
    }
   ],
   "source": [
    "# 비교하고 싶은 그룹 변수 리스트\n",
    "group_cols = ['홈페이지_선결제건수_R3M', '홈페이지_선결제건수_R6M']\n",
    "\n",
    "# 각 변수에 대해 η² 계산\n",
    "for col in group_cols:\n",
    "    η2 = eta_squared(df['Segment'], df[col])\n",
    "    print(f\"{col} vs Segment η²: {η2:.3f}\")"
   ]
  },
  {
   "cell_type": "code",
   "execution_count": 61,
   "id": "a758b400-a38e-422d-8430-29d09403767f",
   "metadata": {},
   "outputs": [
    {
     "name": "stdout",
     "output_type": "stream",
     "text": [
      "         variable       VIF\n",
      "0  홈페이지_선결제건수_R6M  1.000000\n",
      "1           const  1.097012\n"
     ]
    }
   ],
   "source": [
    "# 그룹 변수 리스트 정의\n",
    "ars_cols = ['홈페이지_선결제건수_R6M']\n",
    "\n",
    "# 그룹 내 다중공선성 확인\n",
    "vif_ars = compute_vif(df, ars_cols)\n",
    "print(vif_ars)"
   ]
  },
  {
   "cell_type": "code",
   "execution_count": 62,
   "id": "50476cfe-d0ec-4d68-ac5d-efc7f324d2d2",
   "metadata": {},
   "outputs": [],
   "source": [
    "# 삭제할 피처 리스트 \n",
    "drop_cols = ['홈페이지_선결제건수_R3M']\n",
    "\n",
    "# 삭제\n",
    "df.drop(columns=drop_cols, inplace = True)"
   ]
  },
  {
   "cell_type": "code",
   "execution_count": 63,
   "id": "7edd41f7-0f70-43d7-9ad2-877d99b40d94",
   "metadata": {},
   "outputs": [
    {
     "name": "stdout",
     "output_type": "stream",
     "text": [
      "Index(['기준년월', 'ID', '인입일수_ARS_R6M', '인입월수_ARS_R6M', '인입횟수_ARS_B0M',\n",
      "       '이용메뉴건수_ARS_B0M', '방문후경과월_PC_R6M', '방문후경과월_앱_R6M', '방문횟수_PC_B0M',\n",
      "       '방문일수_PC_B0M', '인입일수_IB_R6M', '인입월수_IB_R6M', '이용메뉴건수_IB_R6M',\n",
      "       '인입후경과월_IB_R6M', '상담건수_R6M', 'IB문의건수_사용승인내역_R6M', 'IB문의건수_선결제_R6M',\n",
      "       '불만제기후경과월_R12M', '당사멤버쉽_방문횟수_R6M', '당사멤버쉽_방문월수_R6M', '홈페이지_금융건수_R6M',\n",
      "       '홈페이지_선결제건수_R6M', 'Segment', '인입횟수_ARS_R6M_num_ord',\n",
      "       '이용메뉴건수_ARS_R6M_num_ord', '방문일수_PC_R6M_num_ord', '방문횟수_앱_R6M_num_ord'],\n",
      "      dtype='object')\n",
      "27\n"
     ]
    }
   ],
   "source": [
    "# 데이터 확인한 후 저장한다.\n",
    "print(df.columns)\n",
    "print(len(df.columns))\n",
    "\n",
    "df.to_csv('채널정보_전처리.csv', index=False, encoding='utf-8-sig')"
   ]
  },
  {
   "cell_type": "code",
   "execution_count": 64,
   "id": "816cbfd3-93df-46e9-b9bd-e2f9c7c05c1f",
   "metadata": {},
   "outputs": [
    {
     "name": "stdout",
     "output_type": "stream",
     "text": [
      "로드 후 0 전부 컬럼: []\n",
      "로드 후 NaN 있는 컬럼: []\n",
      "로드 후 전체 컬럼 수: 27\n"
     ]
    }
   ],
   "source": [
    "# 저장된 파일 불러와서 확인하기\n",
    "df2 = pd.read_csv('채널정보_전처리.csv')\n",
    "zero_after = [c for c in df2.columns if df2[c].eq(0).all()]\n",
    "na_after   = [c for c in df2.columns if df2[c].isna().any()]\n",
    "\n",
    "print(\"로드 후 0 전부 컬럼:\", zero_after)\n",
    "print(\"로드 후 NaN 있는 컬럼:\", na_after)\n",
    "print(\"로드 후 전체 컬럼 수:\", len(df2.columns))"
   ]
  },
  {
   "cell_type": "markdown",
   "id": "0f10e32b-aac5-4355-ad38-91c86a81721c",
   "metadata": {},
   "source": [
    "### Train 데이터와 Test 데이터 분리하기"
   ]
  },
  {
   "cell_type": "code",
   "execution_count": 65,
   "id": "037a0339-534e-426e-9797-9692d42087d9",
   "metadata": {},
   "outputs": [
    {
     "name": "stdout",
     "output_type": "stream",
     "text": [
      "▶ train에 TEST_ ID 존재 여부: False\n",
      "▶ test에 TEST_ 아닌 ID 존재 여부: False\n"
     ]
    }
   ],
   "source": [
    "# 데이터 불러오기\n",
    "df = pd.read_csv('채널정보_전처리.csv')\n",
    "\n",
    "# ID가 'TEST_'로 시작하면 test, 아니면 train으로 분리\n",
    "is_test = df['ID'].str.startswith('TEST_')\n",
    "train_df = df[~is_test].reset_index(drop=True)\n",
    "test_df  = df[ is_test].reset_index(drop=True)\n",
    "\n",
    "# 분리된 데이터 저장\n",
    "train_df.to_csv('train_cleaned6.csv', index=False, encoding='utf-8-sig')\n",
    "test_df .to_csv('test_cleaned6.csv',  index=False, encoding='utf-8-sig')\n",
    "\n",
    "# 저장된 CSV 다시 불러와서 분리 상태 확인\n",
    "train_check = pd.read_csv('train_cleaned6.csv')\n",
    "test_check  = pd.read_csv('test_cleaned6.csv')\n",
    "\n",
    "# 검증: train에 'TEST_' ID 없어야 하고, test에는 'TEST_' ID만 있어야 함\n",
    "print(\"▶ train에 TEST_ ID 존재 여부:\", train_check['ID'].str.startswith('TEST_').any())\n",
    "print(\"▶ test에 TEST_ 아닌 ID 존재 여부:\", (~test_check['ID'].str.startswith('TEST_')).any())"
   ]
  },
  {
   "cell_type": "code",
   "execution_count": 66,
   "id": "873f2b5b-dda9-470c-8fe0-69958cc6bdb0",
   "metadata": {},
   "outputs": [
    {
     "data": {
      "text/html": [
       "<div>\n",
       "<style scoped>\n",
       "    .dataframe tbody tr th:only-of-type {\n",
       "        vertical-align: middle;\n",
       "    }\n",
       "\n",
       "    .dataframe tbody tr th {\n",
       "        vertical-align: top;\n",
       "    }\n",
       "\n",
       "    .dataframe thead th {\n",
       "        text-align: right;\n",
       "    }\n",
       "</style>\n",
       "<table border=\"1\" class=\"dataframe\">\n",
       "  <thead>\n",
       "    <tr style=\"text-align: right;\">\n",
       "      <th></th>\n",
       "      <th>기준년월</th>\n",
       "      <th>ID</th>\n",
       "      <th>인입일수_ARS_R6M</th>\n",
       "      <th>인입월수_ARS_R6M</th>\n",
       "      <th>인입횟수_ARS_B0M</th>\n",
       "      <th>이용메뉴건수_ARS_B0M</th>\n",
       "      <th>방문후경과월_PC_R6M</th>\n",
       "      <th>방문후경과월_앱_R6M</th>\n",
       "      <th>방문횟수_PC_B0M</th>\n",
       "      <th>방문일수_PC_B0M</th>\n",
       "      <th>...</th>\n",
       "      <th>불만제기후경과월_R12M</th>\n",
       "      <th>당사멤버쉽_방문횟수_R6M</th>\n",
       "      <th>당사멤버쉽_방문월수_R6M</th>\n",
       "      <th>홈페이지_금융건수_R6M</th>\n",
       "      <th>홈페이지_선결제건수_R6M</th>\n",
       "      <th>Segment</th>\n",
       "      <th>인입횟수_ARS_R6M_num_ord</th>\n",
       "      <th>이용메뉴건수_ARS_R6M_num_ord</th>\n",
       "      <th>방문일수_PC_R6M_num_ord</th>\n",
       "      <th>방문횟수_앱_R6M_num_ord</th>\n",
       "    </tr>\n",
       "  </thead>\n",
       "  <tbody>\n",
       "    <tr>\n",
       "      <th>0</th>\n",
       "      <td>201807</td>\n",
       "      <td>TRAIN_000000</td>\n",
       "      <td>8</td>\n",
       "      <td>6</td>\n",
       "      <td>2</td>\n",
       "      <td>6</td>\n",
       "      <td>6</td>\n",
       "      <td>6</td>\n",
       "      <td>0</td>\n",
       "      <td>0</td>\n",
       "      <td>...</td>\n",
       "      <td>12</td>\n",
       "      <td>221</td>\n",
       "      <td>6</td>\n",
       "      <td>0</td>\n",
       "      <td>0</td>\n",
       "      <td>D</td>\n",
       "      <td>2</td>\n",
       "      <td>2</td>\n",
       "      <td>1</td>\n",
       "      <td>1</td>\n",
       "    </tr>\n",
       "    <tr>\n",
       "      <th>1</th>\n",
       "      <td>201807</td>\n",
       "      <td>TRAIN_000001</td>\n",
       "      <td>0</td>\n",
       "      <td>0</td>\n",
       "      <td>0</td>\n",
       "      <td>0</td>\n",
       "      <td>6</td>\n",
       "      <td>6</td>\n",
       "      <td>0</td>\n",
       "      <td>0</td>\n",
       "      <td>...</td>\n",
       "      <td>12</td>\n",
       "      <td>0</td>\n",
       "      <td>0</td>\n",
       "      <td>0</td>\n",
       "      <td>0</td>\n",
       "      <td>E</td>\n",
       "      <td>1</td>\n",
       "      <td>1</td>\n",
       "      <td>1</td>\n",
       "      <td>1</td>\n",
       "    </tr>\n",
       "    <tr>\n",
       "      <th>2</th>\n",
       "      <td>201807</td>\n",
       "      <td>TRAIN_000002</td>\n",
       "      <td>1</td>\n",
       "      <td>1</td>\n",
       "      <td>2</td>\n",
       "      <td>5</td>\n",
       "      <td>0</td>\n",
       "      <td>0</td>\n",
       "      <td>5</td>\n",
       "      <td>4</td>\n",
       "      <td>...</td>\n",
       "      <td>12</td>\n",
       "      <td>0</td>\n",
       "      <td>0</td>\n",
       "      <td>11</td>\n",
       "      <td>6</td>\n",
       "      <td>C</td>\n",
       "      <td>1</td>\n",
       "      <td>1</td>\n",
       "      <td>2</td>\n",
       "      <td>4</td>\n",
       "    </tr>\n",
       "    <tr>\n",
       "      <th>3</th>\n",
       "      <td>201807</td>\n",
       "      <td>TRAIN_000003</td>\n",
       "      <td>10</td>\n",
       "      <td>6</td>\n",
       "      <td>2</td>\n",
       "      <td>6</td>\n",
       "      <td>6</td>\n",
       "      <td>6</td>\n",
       "      <td>0</td>\n",
       "      <td>0</td>\n",
       "      <td>...</td>\n",
       "      <td>12</td>\n",
       "      <td>219</td>\n",
       "      <td>6</td>\n",
       "      <td>0</td>\n",
       "      <td>0</td>\n",
       "      <td>D</td>\n",
       "      <td>2</td>\n",
       "      <td>2</td>\n",
       "      <td>1</td>\n",
       "      <td>1</td>\n",
       "    </tr>\n",
       "    <tr>\n",
       "      <th>4</th>\n",
       "      <td>201807</td>\n",
       "      <td>TRAIN_000004</td>\n",
       "      <td>0</td>\n",
       "      <td>0</td>\n",
       "      <td>0</td>\n",
       "      <td>0</td>\n",
       "      <td>6</td>\n",
       "      <td>6</td>\n",
       "      <td>0</td>\n",
       "      <td>0</td>\n",
       "      <td>...</td>\n",
       "      <td>0</td>\n",
       "      <td>0</td>\n",
       "      <td>0</td>\n",
       "      <td>0</td>\n",
       "      <td>0</td>\n",
       "      <td>E</td>\n",
       "      <td>1</td>\n",
       "      <td>1</td>\n",
       "      <td>1</td>\n",
       "      <td>1</td>\n",
       "    </tr>\n",
       "    <tr>\n",
       "      <th>...</th>\n",
       "      <td>...</td>\n",
       "      <td>...</td>\n",
       "      <td>...</td>\n",
       "      <td>...</td>\n",
       "      <td>...</td>\n",
       "      <td>...</td>\n",
       "      <td>...</td>\n",
       "      <td>...</td>\n",
       "      <td>...</td>\n",
       "      <td>...</td>\n",
       "      <td>...</td>\n",
       "      <td>...</td>\n",
       "      <td>...</td>\n",
       "      <td>...</td>\n",
       "      <td>...</td>\n",
       "      <td>...</td>\n",
       "      <td>...</td>\n",
       "      <td>...</td>\n",
       "      <td>...</td>\n",
       "      <td>...</td>\n",
       "      <td>...</td>\n",
       "    </tr>\n",
       "    <tr>\n",
       "      <th>2399995</th>\n",
       "      <td>201812</td>\n",
       "      <td>TRAIN_399995</td>\n",
       "      <td>0</td>\n",
       "      <td>0</td>\n",
       "      <td>0</td>\n",
       "      <td>0</td>\n",
       "      <td>6</td>\n",
       "      <td>6</td>\n",
       "      <td>0</td>\n",
       "      <td>0</td>\n",
       "      <td>...</td>\n",
       "      <td>0</td>\n",
       "      <td>0</td>\n",
       "      <td>0</td>\n",
       "      <td>0</td>\n",
       "      <td>0</td>\n",
       "      <td>E</td>\n",
       "      <td>1</td>\n",
       "      <td>1</td>\n",
       "      <td>1</td>\n",
       "      <td>1</td>\n",
       "    </tr>\n",
       "    <tr>\n",
       "      <th>2399996</th>\n",
       "      <td>201812</td>\n",
       "      <td>TRAIN_399996</td>\n",
       "      <td>0</td>\n",
       "      <td>0</td>\n",
       "      <td>0</td>\n",
       "      <td>0</td>\n",
       "      <td>6</td>\n",
       "      <td>6</td>\n",
       "      <td>0</td>\n",
       "      <td>0</td>\n",
       "      <td>...</td>\n",
       "      <td>12</td>\n",
       "      <td>0</td>\n",
       "      <td>1</td>\n",
       "      <td>0</td>\n",
       "      <td>0</td>\n",
       "      <td>D</td>\n",
       "      <td>1</td>\n",
       "      <td>1</td>\n",
       "      <td>1</td>\n",
       "      <td>1</td>\n",
       "    </tr>\n",
       "    <tr>\n",
       "      <th>2399997</th>\n",
       "      <td>201812</td>\n",
       "      <td>TRAIN_399997</td>\n",
       "      <td>0</td>\n",
       "      <td>0</td>\n",
       "      <td>0</td>\n",
       "      <td>0</td>\n",
       "      <td>6</td>\n",
       "      <td>6</td>\n",
       "      <td>0</td>\n",
       "      <td>0</td>\n",
       "      <td>...</td>\n",
       "      <td>12</td>\n",
       "      <td>0</td>\n",
       "      <td>0</td>\n",
       "      <td>0</td>\n",
       "      <td>0</td>\n",
       "      <td>C</td>\n",
       "      <td>1</td>\n",
       "      <td>1</td>\n",
       "      <td>1</td>\n",
       "      <td>1</td>\n",
       "    </tr>\n",
       "    <tr>\n",
       "      <th>2399998</th>\n",
       "      <td>201812</td>\n",
       "      <td>TRAIN_399998</td>\n",
       "      <td>0</td>\n",
       "      <td>0</td>\n",
       "      <td>0</td>\n",
       "      <td>0</td>\n",
       "      <td>6</td>\n",
       "      <td>6</td>\n",
       "      <td>0</td>\n",
       "      <td>0</td>\n",
       "      <td>...</td>\n",
       "      <td>0</td>\n",
       "      <td>0</td>\n",
       "      <td>0</td>\n",
       "      <td>0</td>\n",
       "      <td>0</td>\n",
       "      <td>E</td>\n",
       "      <td>1</td>\n",
       "      <td>1</td>\n",
       "      <td>1</td>\n",
       "      <td>1</td>\n",
       "    </tr>\n",
       "    <tr>\n",
       "      <th>2399999</th>\n",
       "      <td>201812</td>\n",
       "      <td>TRAIN_399999</td>\n",
       "      <td>0</td>\n",
       "      <td>0</td>\n",
       "      <td>0</td>\n",
       "      <td>0</td>\n",
       "      <td>6</td>\n",
       "      <td>6</td>\n",
       "      <td>0</td>\n",
       "      <td>0</td>\n",
       "      <td>...</td>\n",
       "      <td>0</td>\n",
       "      <td>0</td>\n",
       "      <td>0</td>\n",
       "      <td>0</td>\n",
       "      <td>0</td>\n",
       "      <td>E</td>\n",
       "      <td>1</td>\n",
       "      <td>1</td>\n",
       "      <td>1</td>\n",
       "      <td>1</td>\n",
       "    </tr>\n",
       "  </tbody>\n",
       "</table>\n",
       "<p>2400000 rows × 27 columns</p>\n",
       "</div>"
      ],
      "text/plain": [
       "           기준년월            ID  인입일수_ARS_R6M  인입월수_ARS_R6M  인입횟수_ARS_B0M  \\\n",
       "0        201807  TRAIN_000000             8             6             2   \n",
       "1        201807  TRAIN_000001             0             0             0   \n",
       "2        201807  TRAIN_000002             1             1             2   \n",
       "3        201807  TRAIN_000003            10             6             2   \n",
       "4        201807  TRAIN_000004             0             0             0   \n",
       "...         ...           ...           ...           ...           ...   \n",
       "2399995  201812  TRAIN_399995             0             0             0   \n",
       "2399996  201812  TRAIN_399996             0             0             0   \n",
       "2399997  201812  TRAIN_399997             0             0             0   \n",
       "2399998  201812  TRAIN_399998             0             0             0   \n",
       "2399999  201812  TRAIN_399999             0             0             0   \n",
       "\n",
       "         이용메뉴건수_ARS_B0M  방문후경과월_PC_R6M  방문후경과월_앱_R6M  방문횟수_PC_B0M  \\\n",
       "0                     6              6             6            0   \n",
       "1                     0              6             6            0   \n",
       "2                     5              0             0            5   \n",
       "3                     6              6             6            0   \n",
       "4                     0              6             6            0   \n",
       "...                 ...            ...           ...          ...   \n",
       "2399995               0              6             6            0   \n",
       "2399996               0              6             6            0   \n",
       "2399997               0              6             6            0   \n",
       "2399998               0              6             6            0   \n",
       "2399999               0              6             6            0   \n",
       "\n",
       "         방문일수_PC_B0M  ...  불만제기후경과월_R12M  당사멤버쉽_방문횟수_R6M  당사멤버쉽_방문월수_R6M  \\\n",
       "0                  0  ...             12             221               6   \n",
       "1                  0  ...             12               0               0   \n",
       "2                  4  ...             12               0               0   \n",
       "3                  0  ...             12             219               6   \n",
       "4                  0  ...              0               0               0   \n",
       "...              ...  ...            ...             ...             ...   \n",
       "2399995            0  ...              0               0               0   \n",
       "2399996            0  ...             12               0               1   \n",
       "2399997            0  ...             12               0               0   \n",
       "2399998            0  ...              0               0               0   \n",
       "2399999            0  ...              0               0               0   \n",
       "\n",
       "         홈페이지_금융건수_R6M  홈페이지_선결제건수_R6M  Segment  인입횟수_ARS_R6M_num_ord  \\\n",
       "0                    0               0        D                     2   \n",
       "1                    0               0        E                     1   \n",
       "2                   11               6        C                     1   \n",
       "3                    0               0        D                     2   \n",
       "4                    0               0        E                     1   \n",
       "...                ...             ...      ...                   ...   \n",
       "2399995              0               0        E                     1   \n",
       "2399996              0               0        D                     1   \n",
       "2399997              0               0        C                     1   \n",
       "2399998              0               0        E                     1   \n",
       "2399999              0               0        E                     1   \n",
       "\n",
       "         이용메뉴건수_ARS_R6M_num_ord  방문일수_PC_R6M_num_ord  방문횟수_앱_R6M_num_ord  \n",
       "0                             2                    1                   1  \n",
       "1                             1                    1                   1  \n",
       "2                             1                    2                   4  \n",
       "3                             2                    1                   1  \n",
       "4                             1                    1                   1  \n",
       "...                         ...                  ...                 ...  \n",
       "2399995                       1                    1                   1  \n",
       "2399996                       1                    1                   1  \n",
       "2399997                       1                    1                   1  \n",
       "2399998                       1                    1                   1  \n",
       "2399999                       1                    1                   1  \n",
       "\n",
       "[2400000 rows x 27 columns]"
      ]
     },
     "execution_count": 66,
     "metadata": {},
     "output_type": "execute_result"
    }
   ],
   "source": [
    "# train 데이터 불러오기\n",
    "df = pd.read_csv ('train_cleaned6.csv')\n",
    "df"
   ]
  }
 ],
 "metadata": {
  "kernelspec": {
   "display_name": "Python [conda env:base] *",
   "language": "python",
   "name": "conda-base-py"
  },
  "language_info": {
   "codemirror_mode": {
    "name": "ipython",
    "version": 3
   },
   "file_extension": ".py",
   "mimetype": "text/x-python",
   "name": "python",
   "nbconvert_exporter": "python",
   "pygments_lexer": "ipython3",
   "version": "3.12.7"
  }
 },
 "nbformat": 4,
 "nbformat_minor": 5
}
