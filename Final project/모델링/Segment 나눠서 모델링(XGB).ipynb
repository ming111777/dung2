{
 "cells": [
  {
   "cell_type": "code",
   "execution_count": 1,
   "id": "a87f9480-208e-43b8-805b-d345f63f50e5",
   "metadata": {},
   "outputs": [],
   "source": [
    "# 기본\n",
    "import pandas as pd\n",
    "import numpy as np\n",
    "import matplotlib.pyplot as plt\n",
    "import seaborn as sns\n",
    "\n",
    "# 경고 뜨지 않게 설정\n",
    "import warnings\n",
    "warnings.filterwarnings('ignore')\n",
    "\n",
    "# 그래프 설정\n",
    "sns.set()\n",
    "\n",
    "# 그래프 기본 설정\n",
    "plt.rcParams['font.family'] = 'Malgun Gothic'\n",
    "# plt.rcParams['font.family'] = 'AppleGothic'\n",
    "plt.rcParams['figure.figsize'] = 12, 6\n",
    "plt.rcParams['font.size'] = 14\n",
    "plt.rcParams['axes.unicode_minus'] = False\n",
    "from sklearn.model_selection      import train_test_split, StratifiedKFold, cross_val_predict\n",
    "from sklearn.preprocessing       import StandardScaler\n",
    "from sklearn.impute              import SimpleImputer\n",
    "from xgboost                     import XGBClassifier\n",
    "from sklearn.metrics             import confusion_matrix, classification_report\n",
    "from sklearn.pipeline            import Pipeline\n",
    "from sklearn.metrics             import classification_report, confusion_matrix, ConfusionMatrixDisplay\n",
    "\n",
    "# 경고 메시지 억제\n",
    "import warnings\n",
    "warnings.filterwarnings('ignore')  "
   ]
  },
  {
   "cell_type": "code",
   "execution_count": 2,
   "id": "3fc1cf04-73b6-43e1-85d7-78b43ba09cfe",
   "metadata": {},
   "outputs": [],
   "source": [
    "# 데이터 로드 및 ID 제거\n",
    "df = pd.read_csv(\"final_features.csv\")\n",
    "X = df.drop(columns=['Segment', 'ID'])\n",
    "y = df['Segment']\n",
    "\n",
    "# E vs not-E 이진 타깃 생성\n",
    "y_e = (y == 'E').astype(int)\n",
    "\n",
    "# 학습/검증 분할 (20% 검증, E 분포 유지)\n",
    "X_train, X_val, y_train_e, y_val_e, y_train, y_val = train_test_split(\n",
    "    X, y_e, y, test_size=0.2, random_state=42, stratify=y_e\n",
    ")\n",
    "\n",
    "# 스케일러 학습 및 변환\n",
    "scaler = StandardScaler()\n",
    "X_train_s = scaler.fit_transform(X_train)\n",
    "X_val_s   = scaler.transform(X_val)"
   ]
  },
  {
   "cell_type": "code",
   "execution_count": 3,
   "id": "36f2ee5c-5cb5-4388-b214-e2a68551292a",
   "metadata": {},
   "outputs": [
    {
     "name": "stdout",
     "output_type": "stream",
     "text": [
      "=== 모델1: E vs not-E ===\n",
      "[[11088  4844]\n",
      " [ 2631 61437]]\n",
      "              precision    recall  f1-score   support\n",
      "\n",
      "       not-E       0.81      0.70      0.75     15932\n",
      "           E       0.93      0.96      0.94     64068\n",
      "\n",
      "    accuracy                           0.91     80000\n",
      "   macro avg       0.87      0.83      0.85     80000\n",
      "weighted avg       0.90      0.91      0.90     80000\n",
      "\n"
     ]
    }
   ],
   "source": [
    "# 1. 모델1: E vs not-E 분류\n",
    "model1 = XGBClassifier(eval_metric='logloss', random_state=42, verbose=-1, verbosity=0, tree_method='gpu_hist', predictor = 'gpu_predictor')\n",
    "\n",
    "# E vs not-E\n",
    "model1.fit(X_train_s, y_train_e)\n",
    "\n",
    "# 검증셋 E vs not-E\n",
    "y1_pred = model1.predict(X_val_s)\n",
    "\n",
    "print(\"=== 모델1: E vs not-E ===\")\n",
    "print(confusion_matrix(y_val_e, y1_pred))\n",
    "print(classification_report(y_val_e, y1_pred, target_names=['not-E','E']))\n",
    "\n",
    "# 검증셋 DataFrame 및 pred1 추가\n",
    "df_val = pd.DataFrame(X_val_s, columns=X.columns)\n",
    "df_val['true_seg'] = y_val.values\n",
    "df_val['pred1']    = y1_pred"
   ]
  },
  {
   "cell_type": "code",
   "execution_count": 4,
   "id": "7f6b0d5f-61f3-4186-b507-b5c5fcb5f68f",
   "metadata": {},
   "outputs": [
    {
     "name": "stdout",
     "output_type": "stream",
     "text": [
      "\n",
      "=== 모델2: A/B vs C/D ===\n",
      "[[13680     2]\n",
      " [   32     5]]\n",
      "              precision    recall  f1-score   support\n",
      "\n",
      "         C/D       1.00      1.00      1.00     13682\n",
      "         A/B       0.71      0.14      0.23        37\n",
      "\n",
      "    accuracy                           1.00     13719\n",
      "   macro avg       0.86      0.57      0.61     13719\n",
      "weighted avg       1.00      1.00      1.00     13719\n",
      "\n"
     ]
    }
   ],
   "source": [
    "# 2. 모델2: A/B vs C/D 분류\n",
    "\n",
    "# pred1 == 0 (not-E) 데이터\n",
    "df_val_notE = df_val[df_val['pred1'] == 0].reset_index(drop=True)\n",
    "X_val_notE  = df_val_notE[X.columns]\n",
    "\n",
    "# A/B vs C/D 레이블 (A,B→1 / C,D→0)\n",
    "y2_true = df_val_notE['true_seg'].apply(lambda s: 1 if s in ['A','B'] else 0)\n",
    "\n",
    "# 학습셋 not-E 샘플 및 A/B vs C/D 타깃\n",
    "mask_train_notE = (y_train_e == 0)\n",
    "X_train_notE    = X_train_s[mask_train_notE]\n",
    "y_train_notE    = y_train[mask_train_notE].apply(lambda s: 1 if s in ['A','B'] else 0)\n",
    "\n",
    "# XGBoost 분류기 \n",
    "model2 = XGBClassifier(eval_metric='logloss', random_state=42, verbose=-1, verbosity=0, tree_method='gpu_hist', predictor = 'gpu_predictor')\n",
    "\n",
    "# A/B vs C/D\n",
    "model2.fit(X_train_notE, y_train_notE)\n",
    "\n",
    "# 검증셋 A/B vs C/D\n",
    "y2_pred = model2.predict(X_val_notE)\n",
    "\n",
    "print(\"\\n=== 모델2: A/B vs C/D ===\")\n",
    "print(confusion_matrix(y2_true, y2_pred))\n",
    "print(classification_report(y2_true, y2_pred, target_names=['C/D','A/B']))\n",
    "\n",
    "# pred2 컬럼\n",
    "df_val_notE['pred2'] = y2_pred"
   ]
  },
  {
   "cell_type": "code",
   "execution_count": 5,
   "id": "38f7e743-b214-4ec1-a5f1-ca44d8d68c39",
   "metadata": {},
   "outputs": [
    {
     "name": "stdout",
     "output_type": "stream",
     "text": [
      "\n",
      "=== 모델3: A vs B ===\n",
      "[[7]]\n",
      "              precision    recall  f1-score   support\n",
      "\n",
      "           A       1.00      1.00      1.00         7\n",
      "           B       0.00      0.00      0.00         0\n",
      "\n",
      "    accuracy                           1.00         7\n",
      "   macro avg       0.50      0.50      0.50         7\n",
      "weighted avg       1.00      1.00      1.00         7\n",
      "\n"
     ]
    }
   ],
   "source": [
    "# 모델3: A vs B 분류\n",
    "# pred2 == 1 (A/B로 예측된) 데이터\n",
    "df_val_AB = df_val_notE[df_val_notE['pred2'] == 1].reset_index(drop=True)\n",
    "X_val_AB  = df_val_AB[X.columns]\n",
    "\n",
    "# A vs B 레이블 (B→1 / A→0)\n",
    "y3_true = df_val_AB['true_seg'].apply(lambda s: 1 if s == 'B' else 0)\n",
    "\n",
    "# 학습셋 A/B 샘플 및 A vs B 타깃\n",
    "mask_train_AB = mask_train_notE & (y_train.isin(['A','B']))\n",
    "X_train_AB    = X_train_s[mask_train_AB]\n",
    "y_train_AB    = y_train[mask_train_AB].apply(lambda s: 1 if s == 'B' else 0)\n",
    "\n",
    "# XGBoost 분류기 \n",
    "model3 = XGBClassifier(eval_metric='logloss', random_state=42, verbose=-1, verbosity=0, tree_method='gpu_hist', predictor = 'gpu_predictor')\n",
    "\n",
    "# A vs B\n",
    "model3.fit(X_train_AB, y_train_AB)\n",
    "\n",
    "# 검증셋 A vs B\n",
    "y3_pred = model3.predict(X_val_AB)\n",
    "\n",
    "print(\"\\n=== 모델3: A vs B ===\")\n",
    "print(confusion_matrix(y3_true, y3_pred))\n",
    "print(classification_report(y3_true, y3_pred, labels=[0,1], target_names=['A','B']))"
   ]
  },
  {
   "cell_type": "code",
   "execution_count": 6,
   "id": "269ff32b-9124-4434-bec5-0fcdc35eef16",
   "metadata": {},
   "outputs": [
    {
     "name": "stdout",
     "output_type": "stream",
     "text": [
      "\n",
      "=== 모델4: C vs D ===\n",
      "[[2416 4006]\n",
      " [ 777 6513]]\n",
      "              precision    recall  f1-score   support\n",
      "\n",
      "           C       0.76      0.38      0.50      6422\n",
      "           D       0.62      0.89      0.73      7290\n",
      "\n",
      "    accuracy                           0.65     13712\n",
      "   macro avg       0.69      0.63      0.62     13712\n",
      "weighted avg       0.68      0.65      0.62     13712\n",
      "\n"
     ]
    }
   ],
   "source": [
    "# 4. 모델4: C vs D 분류\n",
    "# pred2 == 0 (C/D로 예측된) 데이터\n",
    "df_val_CD = df_val_notE[df_val_notE['pred2'] == 0].reset_index(drop=True)\n",
    "X_val_CD  = df_val_CD[X.columns]\n",
    "\n",
    "# C vs D 레이블 (D→1 / C→0)\n",
    "y4_true = df_val_CD['true_seg'].apply(lambda s: 1 if s == 'D' else 0)\n",
    "\n",
    "# 학습셋 C/D 샘플 및 C vs D 타깃\n",
    "mask_train_CD = mask_train_notE & (y_train.isin(['C','D']))\n",
    "X_train_CD    = X_train_s[mask_train_CD]\n",
    "y_train_CD    = y_train[mask_train_CD].apply(lambda s: 1 if s == 'D' else 0)\n",
    "\n",
    "# XGBoost 분류기 \n",
    "model4 = XGBClassifier(eval_metric='logloss', random_state=42, verbose=-1, verbosity=0, tree_method='gpu_hist', predictor = 'gpu_predictor')\n",
    "\n",
    "# C vs D\n",
    "model4.fit(X_train_CD, y_train_CD)\n",
    "\n",
    "# 검증셋 C vs D\n",
    "y4_pred = model4.predict(X_val_CD)\n",
    "\n",
    "print(\"\\n=== 모델4: C vs D ===\")\n",
    "print(confusion_matrix(y4_true, y4_pred))\n",
    "print(classification_report(y4_true, y4_pred, target_names=['C','D']))"
   ]
  },
  {
   "cell_type": "markdown",
   "id": "c1c89fb9-ee6e-45a0-ae11-874c8d2cea1b",
   "metadata": {},
   "source": [
    "### 최종 결과"
   ]
  },
  {
   "cell_type": "code",
   "execution_count": 7,
   "id": "e4c9a33b-fcf7-4007-bc3b-bf19d70e3ccd",
   "metadata": {
    "scrolled": true
   },
   "outputs": [
    {
     "name": "stdout",
     "output_type": "stream",
     "text": [
      "=== 최종 모델 통합 성능 평가 (A/B/C/D/E) ===\n",
      "              precision    recall  f1-score   support\n",
      "\n",
      "           A       0.71      0.16      0.26        32\n",
      "           B       0.00      0.00      0.00         5\n",
      "           C       0.68      0.50      0.58      4317\n",
      "           D       0.62      0.56      0.59     11578\n",
      "           E       0.93      0.96      0.94     64068\n",
      "\n",
      "    accuracy                           0.88     80000\n",
      "   macro avg       0.59      0.44      0.47     80000\n",
      "weighted avg       0.87      0.88      0.87     80000\n",
      "\n"
     ]
    },
    {
     "data": {
      "image/png": "[encoded data removed]",
      "text/plain": [
       "<Figure size 600x500 with 2 Axes>"
      ]
     },
     "metadata": {},
     "output_type": "display_data"
    }
   ],
   "source": [
    "# 1. E로 예측된 고객\n",
    "df_pred_E = df_val[df_val['pred1'] == 1].copy()\n",
    "df_pred_E['final_pred'] = 'E'\n",
    "\n",
    "# 2. A/B로 예측된 고객\n",
    "df_pred_AB = df_val_notE[df_val_notE['pred2'] == 1].copy()\n",
    "df_pred_AB['final_pred'] = np.where(y3_pred == 1, 'B', 'A')\n",
    "\n",
    "# 3. C/D로 예측된 고객\n",
    "df_pred_CD = df_val_notE[df_val_notE['pred2'] == 0].copy()\n",
    "df_pred_CD['final_pred'] = np.where(y4_pred == 1, 'D', 'C')\n",
    "\n",
    "# 모두 합치기\n",
    "df_val_all = pd.concat([df_pred_E, df_pred_AB, df_pred_CD], axis=0).reset_index(drop=True)\n",
    "\n",
    "# 평가\n",
    "y_true_final = df_val_all['true_seg']\n",
    "y_pred_final = df_val_all['final_pred']\n",
    "\n",
    "print(\"=== 최종 모델 통합 성능 평가 (A/B/C/D/E) ===\")\n",
    "print(classification_report(y_true_final, y_pred_final, labels=['A','B','C','D','E']))\n",
    "\n",
    "# 혼동행렬 시각화\n",
    "labels = ['A', 'B', 'C', 'D', 'E']\n",
    "cm = confusion_matrix(y_true_final, y_pred_final, labels=labels)\n",
    "disp = ConfusionMatrixDisplay(confusion_matrix=cm, display_labels=labels)\n",
    "\n",
    "fig, ax = plt.subplots(figsize=(6,5))\n",
    "disp.plot(ax=ax, cmap='Blues', values_format='d', colorbar=True)\n",
    "\n",
    "# 그리드(격자) 끄기\n",
    "ax.grid(False)\n",
    "\n",
    "# 축 테두리(스파인) 숨기기\n",
    "for spine in ax.spines.values():\n",
    "    spine.set_visible(False)\n",
    "\n",
    "plt.title(\"최종 모델 혼동행렬 (A/B/C/D/E)\")\n",
    "plt.xlabel(\"Predicted label\")\n",
    "plt.ylabel(\"True label\")\n",
    "plt.tight_layout()\n",
    "plt.show()"
   ]
  },
  {
   "cell_type": "code",
   "execution_count": 8,
   "id": "67cd082a-356e-4fdf-89c7-14e4b4829611",
   "metadata": {},
   "outputs": [
    {
     "data": {
      "text/plain": [
       "0        C\n",
       "1        D\n",
       "2        D\n",
       "3        E\n",
       "4        E\n",
       "        ..\n",
       "99995    E\n",
       "99996    E\n",
       "99997    E\n",
       "99998    C\n",
       "99999    E\n",
       "Name: Segment, Length: 100000, dtype: object"
      ]
     },
     "execution_count": 8,
     "metadata": {},
     "output_type": "execute_result"
    }
   ],
   "source": [
    "# 제출 양식과 PCA 완료된 TEST 피처 불러오기\n",
    "sample_sub     = pd.read_csv(\"sample_submission.csv\")\n",
    "test_feat_df   = pd.read_csv(\"final_test_features.csv\")  \n",
    "\n",
    "# ID 분리, 피처만 남기기\n",
    "test_ids       = test_feat_df['ID']\n",
    "X_test_final   = test_feat_df.drop(columns=['ID'])\n",
    "\n",
    "# 계층형 모델 예측\n",
    "final_preds = []\n",
    "for x in X_test_final.values:\n",
    "    # E vs not-E\n",
    "    if model1.predict([x])[0] == 1:\n",
    "        final_preds.append('E')\n",
    "    else:\n",
    "        # A/B vs C/D\n",
    "        if model2.predict([x])[0] == 1:\n",
    "            # A vs B\n",
    "            final_preds.append('B' if model3.predict([x])[0] == 1 else 'A')\n",
    "        else:\n",
    "            # C vs D\n",
    "            final_preds.append('D' if model4.predict([x])[0] == 1 else 'C')\n",
    "\n",
    "# 예측 결과를 sample_sub에 채워 저장\n",
    "sample_sub['Segment'] = final_preds\n",
    "sample_sub['Segment']"
   ]
  },
  {
   "cell_type": "code",
   "execution_count": 9,
   "id": "d40fb3a5-7822-42de-837e-0733446c0688",
   "metadata": {},
   "outputs": [],
   "source": [
    "sample_sub.to_csv(\"submission.csv\", index=False, encoding=\"utf-8-sig\")"
   ]
  }
 ],
 "metadata": {
  "kernelspec": {
   "display_name": "Python [conda env:base] *",
   "language": "python",
   "name": "conda-base-py"
  },
  "language_info": {
   "codemirror_mode": {
    "name": "ipython",
    "version": 3
   },
   "file_extension": ".py",
   "mimetype": "text/x-python",
   "name": "python",
   "nbconvert_exporter": "python",
   "pygments_lexer": "ipython3",
   "version": "3.12.7"
  }
 },
 "nbformat": 4,
 "nbformat_minor": 5
}
