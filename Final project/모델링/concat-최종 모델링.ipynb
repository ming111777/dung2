{
 "cells": [
  {
   "cell_type": "code",
   "execution_count": 1,
   "id": "632fb004-c341-414f-ad04-95db9982f7c6",
   "metadata": {},
   "outputs": [],
   "source": [
    "# 기본\n",
    "import pandas as pd\n",
    "import numpy as np\n",
    "import matplotlib.pyplot as plt\n",
    "import seaborn as sns\n",
    "import gc\n",
    "\n",
    "# 경고 뜨지 않게 설정\n",
    "import warnings\n",
    "warnings.filterwarnings('ignore')\n",
    "\n",
    "# 그래프 설정\n",
    "sns.set()\n",
    "\n",
    "# 그래프 기본 설정\n",
    "plt.rcParams['font.family'] = 'Malgun Gothic'\n",
    "# plt.rcParams['font.family'] = 'AppleGothic'\n",
    "plt.rcParams['figure.figsize'] = 12, 6\n",
    "plt.rcParams['font.size'] = 14\n",
    "plt.rcParams['axes.unicode_minus'] = False\n",
    "\n",
    "# 결측치 시각화를 위한 라이브러리\n",
    "import missingno\n",
    "\n",
    "from functools import reduce"
   ]
  },
  {
   "cell_type": "code",
   "execution_count": 2,
   "id": "3415debc-57cf-4213-b044-7651acde5576",
   "metadata": {},
   "outputs": [],
   "source": [
    "# 1–8번 파일 읽어와서 train/test 합치기\n",
    "paths = [\n",
    "    ('회원정보_preprocessing.csv'),\n",
    "    ('신용정보_preprocessing.csv'),\n",
    "    ('승인매출정보_전처리.csv'),\n",
    "    ('청구잔액전처리_최종데이터.csv'),\n",
    "    ('채널정보_전처리.csv'),\n",
    "    ('마케팅정보_전처리.csv'),\n",
    "    ('성과정보_preprocessing.csv'),\n",
    "]"
   ]
  },
  {
   "cell_type": "code",
   "execution_count": 3,
   "id": "d72afd85-f7f0-4d71-8d96-f384839fea92",
   "metadata": {},
   "outputs": [
    {
     "name": "stdout",
     "output_type": "stream",
     "text": [
      "Train 데이터 수: 400000\n",
      "Test 데이터 수:  100000\n"
     ]
    }
   ],
   "source": [
    "dfs = []\n",
    "for path in paths:\n",
    "    # 추출: CSV 파일 읽기\n",
    "    df = pd.read_csv(path)\n",
    "    \n",
    "    # 정의: '기준년월' 컬럼이 있으면 'YYYY-MM' 형식으로 변환\n",
    "    if '기준년월' in df.columns:\n",
    "        df['기준년월'] = pd.to_datetime(\n",
    "            df['기준년월'].astype(str),\n",
    "            format='%Y%m',\n",
    "            errors='coerce'\n",
    "        ).dt.strftime('%Y-%m')\n",
    "    \n",
    "    dfs.append(df)\n",
    "\n",
    "# 12월 데이터만 필터링\n",
    "dfs_dec = [df[df['기준년월'].str.endswith('-12')].copy() for df in dfs]\n",
    "\n",
    "# 중복된 Segment 열 제거 (첫 번째 데이터프레임만 Segment 유지)\n",
    "for df in dfs_dec[1:]:\n",
    "    if 'Segment' in df.columns:\n",
    "        df.drop('Segment', axis=1, inplace=True)\n",
    "\n",
    "# 공통 키(ID, 기준년월)로 병합\n",
    "merged_df = reduce(\n",
    "    lambda left, right: pd.merge(left, right, on=['ID', '기준년월'], how='outer'),\n",
    "    dfs_dec\n",
    ")\n",
    "\n",
    "# ID가 'TRAIN'으로 시작하는 행은 train 데이터로 분리\n",
    "train_df = merged_df[merged_df['ID'].str.startswith('TRAIN')].copy()\n",
    "\n",
    "# ID가 'TEST'로 시작하는 행은 test 데이터로 분리\n",
    "test_df  = merged_df[merged_df['ID'].str.startswith('TEST')].copy()\n",
    "\n",
    "# 확인: 분리된 데이터프레임 크기 출력\n",
    "print(f\"Train 데이터 수: {len(train_df)}\")\n",
    "print(f\"Test 데이터 수:  {len(test_df)}\")"
   ]
  },
  {
   "cell_type": "code",
   "execution_count": 4,
   "id": "28b51e75-a0df-46ca-9f4d-8ff3a2f4e2c6",
   "metadata": {},
   "outputs": [
    {
     "name": "stdout",
     "output_type": "stream",
     "text": [
      "\n",
      "train_df 컬럼 데이터 타입별 개수:\n",
      "int64      626\n",
      "bool       104\n",
      "float64     57\n",
      "object       3\n",
      "Name: count, dtype: int64\n",
      "\n",
      "test_df 컬럼 데이터 타입별 개수:\n",
      "int64      626\n",
      "bool       104\n",
      "float64     57\n",
      "object       3\n",
      "Name: count, dtype: int64\n"
     ]
    }
   ],
   "source": [
    "# train_df와 test_df의 컬럼별 데이터 타입별 개수 확인\n",
    "for name, df_part in [('train_df', train_df), ('test_df', test_df)]:\n",
    "    print(f\"\\n{name} 컬럼 데이터 타입별 개수:\")\n",
    "    print(df_part.dtypes.value_counts())"
   ]
  },
  {
   "cell_type": "code",
   "execution_count": 5,
   "id": "edca77e2-a64a-4713-9e52-cb49efc6cec5",
   "metadata": {},
   "outputs": [
    {
     "name": "stdout",
     "output_type": "stream",
     "text": [
      "train_df object 컬럼 (3개):\n",
      "['기준년월', 'ID', 'Segment']\n",
      "\n",
      "test_df object 컬럼 (3개):\n",
      "['기준년월', 'ID', 'Segment']\n"
     ]
    }
   ],
   "source": [
    "# train_df의 object 타입 컬럼 리스트\n",
    "obj_cols_train = train_df.select_dtypes(include='object').columns.tolist()\n",
    "\n",
    "# train_df object 컬럼 및 개수\n",
    "print(f\"train_df object 컬럼 ({len(obj_cols_train)}개):\")\n",
    "print(obj_cols_train)\n",
    "\n",
    "# test_df의 object 타입 컬럼 리스트\n",
    "obj_cols_test = test_df.select_dtypes(include='object').columns.tolist()\n",
    "\n",
    "# test_df object 컬럼 및 개수\n",
    "print(f\"\\ntest_df object 컬럼 ({len(obj_cols_test)}개):\")\n",
    "print(obj_cols_test)"
   ]
  },
  {
   "cell_type": "code",
   "execution_count": 9,
   "id": "f1eb046c-b954-423a-816d-133a15e21672",
   "metadata": {},
   "outputs": [],
   "source": [
    "# 저장: 결과를 CSV로 내보내기\n",
    "train_df.to_csv('merged_2018_train.csv', index=False)\n",
    "test_df.to_csv('merged_2018_test.csv',  index=False)"
   ]
  }
 ],
 "metadata": {
  "kernelspec": {
   "display_name": "Python [conda env:base] *",
   "language": "python",
   "name": "conda-base-py"
  },
  "language_info": {
   "codemirror_mode": {
    "name": "ipython",
    "version": 3
   },
   "file_extension": ".py",
   "mimetype": "text/x-python",
   "name": "python",
   "nbconvert_exporter": "python",
   "pygments_lexer": "ipython3",
   "version": "3.12.7"
  }
 },
 "nbformat": 4,
 "nbformat_minor": 5
}
