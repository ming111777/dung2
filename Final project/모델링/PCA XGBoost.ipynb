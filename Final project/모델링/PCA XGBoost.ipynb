{
 "cells": [
  {
   "cell_type": "code",
   "execution_count": 1,
   "id": "9dbc4351-0253-4647-9994-13f084b5a730",
   "metadata": {},
   "outputs": [],
   "source": [
    "# 기본\n",
    "import pandas as pd\n",
    "import numpy as np\n",
    "import matplotlib.pyplot as plt\n",
    "import seaborn as sns\n",
    "\n",
    "# 경고 뜨지 않게 설정\n",
    "import warnings\n",
    "warnings.filterwarnings('ignore')\n",
    "\n",
    "# 그래프 설정\n",
    "sns.set()\n",
    "\n",
    "# 그래프 기본 설정\n",
    "plt.rcParams['font.family'] = 'Malgun Gothic'\n",
    "# plt.rcParams['font.family'] = 'AppleGothic'\n",
    "plt.rcParams['figure.figsize'] = 12, 6\n",
    "plt.rcParams['font.size'] = 14\n",
    "plt.rcParams['axes.unicode_minus'] = False\n",
    "\n",
    "# 데이터 전처리 알고리즘\n",
    "from sklearn.preprocessing import LabelEncoder\n",
    "from sklearn.preprocessing import StandardScaler\n",
    "\n",
    "# 학습용과 검증용으로 나누는 함수\n",
    "from sklearn.model_selection import train_test_split\n",
    "\n",
    "# 교차 검증\n",
    "from sklearn.model_selection import cross_val_score\n",
    "from sklearn.model_selection import cross_validate\n",
    "from sklearn.model_selection import KFold\n",
    "from sklearn.model_selection import StratifiedKFold\n",
    "\n",
    "# 평가함수\n",
    "# 분류용\n",
    "from sklearn.metrics import accuracy_score\n",
    "from sklearn.metrics import precision_score\n",
    "from sklearn.metrics import recall_score\n",
    "from sklearn.metrics import f1_score\n",
    "from sklearn.metrics import roc_auc_score\n",
    "\n",
    "# 회귀용\n",
    "from sklearn.metrics import r2_score\n",
    "from sklearn.metrics import mean_squared_error\n",
    "\n",
    "# 모델의 최적의 하이퍼 파라미터를 찾기 위한 도구\n",
    "from sklearn.model_selection import GridSearchCV\n",
    "\n",
    "# 머신러닝 알고리즘 - 분류\n",
    "from sklearn.neighbors import KNeighborsClassifier\n",
    "from sklearn.linear_model import LogisticRegression\n",
    "from sklearn.svm import SVC\n",
    "from sklearn.tree import DecisionTreeClassifier\n",
    "from sklearn.ensemble import RandomForestClassifier\n",
    "from sklearn.ensemble import AdaBoostClassifier\n",
    "from sklearn.ensemble import GradientBoostingClassifier\n",
    "from lightgbm import LGBMClassifier\n",
    "from xgboost import XGBClassifier\n",
    "from sklearn.ensemble import VotingClassifier\n",
    "\n",
    "# 머신러닝 알고리즘 - 회귀\n",
    "from sklearn.neighbors import KNeighborsRegressor\n",
    "from sklearn.linear_model import LinearRegression\n",
    "from sklearn.linear_model import Ridge\n",
    "from sklearn.linear_model import Lasso\n",
    "from sklearn.linear_model import ElasticNet\n",
    "from sklearn.svm import SVR\n",
    "from sklearn.tree import DecisionTreeRegressor\n",
    "from sklearn.ensemble import RandomForestRegressor\n",
    "from sklearn.ensemble import AdaBoostRegressor\n",
    "from sklearn.ensemble import GradientBoostingRegressor\n",
    "from lightgbm import LGBMRegressor\n",
    "from xgboost import XGBRegressor\n",
    "from sklearn.ensemble import VotingRegressor\n",
    "\n",
    "# 학습 모델 저장을 위한 라이브러리\n",
    "import pickle\n",
    "\n",
    "# statsmodels API 불러오기\n",
    "import statsmodels.api as sm\n",
    "\n",
    "# 분산 팽창 계수 함수 불러오기\n",
    "from statsmodels.stats.outliers_influence import variance_inflation_factor"
   ]
  },
  {
   "cell_type": "code",
   "execution_count": 2,
   "id": "8c234436-ad4c-417b-b665-7b5b9b527782",
   "metadata": {},
   "outputs": [],
   "source": [
    "# 교차검증 횟수\n",
    "cv_count = 10\n",
    "\n",
    "# 교차 검증\n",
    "kfold = KFold(n_splits=cv_count, shuffle=True, random_state=1)"
   ]
  },
  {
   "cell_type": "code",
   "execution_count": 3,
   "id": "01654e55-f5e3-4741-a65f-4be0f357f0c3",
   "metadata": {},
   "outputs": [],
   "source": [
    "# 학습 데이터와 테스트 데이터 불러오기\n",
    "train_df = pd.read_csv(\"train_final_with_pca.csv\")\n",
    "test_df  = pd.read_csv(\"test_final_with_pca.csv\")\n",
    "\n",
    "# ID 컬럼 제거\n",
    "train_df = train_df.drop(columns=['ID'])\n",
    "\n",
    "# X와 y 분리\n",
    "X = train_df.drop(columns=['Segment'])\n",
    "y = train_df['Segment']\n",
    "\n",
    "# 라벨 인코딩\n",
    "encoder = LabelEncoder()\n",
    "y_num   = encoder.fit_transform(y)\n",
    "\n",
    "# X는 숫자형이므로 바로 스케일링\n",
    "scaler = StandardScaler()\n",
    "X_scaled = scaler.fit_transform(X)"
   ]
  },
  {
   "cell_type": "code",
   "execution_count": 4,
   "id": "60a7b9dc-33e8-412c-ae0d-d9c0c679f235",
   "metadata": {},
   "outputs": [],
   "source": [
    "# 교차검증으로 성능 평가\n",
    "f1_scores  = []\n",
    "acc_scores = []\n",
    "\n",
    "for train_idx, val_idx in kfold.split(X_scaled):\n",
    "    X_train, X_val = X_scaled[train_idx], X_scaled[val_idx]\n",
    "    y_train, y_val = y_num[train_idx],   y_num[val_idx]\n",
    "    \n",
    "    model = XGBClassifier(\n",
    "        tree_method='gpu_hist',\n",
    "        predictor='gpu_predictor',\n",
    "        use_label_encoder=False,\n",
    "        eval_metric='mlogloss'\n",
    "    )\n",
    "    model.fit(X_train, y_train)\n",
    "    \n",
    "    y_pred = model.predict(X_val)\n",
    "    f1_scores.append(f1_score(y_val, y_pred, average='micro'))\n",
    "    acc_scores.append(accuracy_score(y_val, y_pred))"
   ]
  },
  {
   "cell_type": "code",
   "execution_count": 5,
   "id": "eeeb61bb-de36-4cc2-a6e3-5dc187a673fe",
   "metadata": {},
   "outputs": [
    {
     "name": "stdout",
     "output_type": "stream",
     "text": [
      "Cross-Validation Micro F1: 0.9061925000000001\n",
      "Cross-Validation Accuracy: 0.9061925000000001\n"
     ]
    }
   ],
   "source": [
    "# 교차검증 결과 출력\n",
    "print(f'Cross-Validation Micro F1: {np.mean(f1_scores):}')\n",
    "print(f'Cross-Validation Accuracy: {np.mean(acc_scores):}')"
   ]
  },
  {
   "cell_type": "code",
   "execution_count": 6,
   "id": "86c5ff0a-29ab-4ec0-a739-f08fdbd74b80",
   "metadata": {},
   "outputs": [
    {
     "ename": "ZeroDivisionError",
     "evalue": "division by zero",
     "output_type": "error",
     "traceback": [
      "\u001b[1;31m---------------------------------------------------------------------------\u001b[0m",
      "\u001b[1;31mZeroDivisionError\u001b[0m                         Traceback (most recent call last)",
      "Cell \u001b[1;32mIn[6], line 1\u001b[0m\n\u001b[1;32m----> 1\u001b[0m \u001b[38;5;241m1\u001b[39m\u001b[38;5;241m/\u001b[39m\u001b[38;5;241m0\u001b[39m\n",
      "\u001b[1;31mZeroDivisionError\u001b[0m: division by zero"
     ]
    }
   ],
   "source": [
    "1/0"
   ]
  },
  {
   "cell_type": "markdown",
   "id": "c2c586d8-2881-4a06-9bf1-7a1a6218f10f",
   "metadata": {},
   "source": [
    "### XGBoost"
   ]
  },
  {
   "cell_type": "code",
   "execution_count": null,
   "id": "298a85f6-074a-4c4b-b0a8-098418a040ba",
   "metadata": {},
   "outputs": [],
   "source": [
    "# 전체 데이터로 재학습\n",
    "final_model = XGBClassifier(\n",
    "    tree_method='gpu_hist',\n",
    "    predictor='gpu_predictor',\n",
    "    use_label_encoder=False,\n",
    "    eval_metric='mlogloss'\n",
    ")\n",
    "final_model.fit(X_scaled, y_num)"
   ]
  },
  {
   "cell_type": "code",
   "execution_count": null,
   "id": "0c64dc52-a72b-4d8a-8297-353bac15aa15",
   "metadata": {},
   "outputs": [],
   "source": [
    "# 테스트 데이터 전처리\n",
    "test_ids      = test_df['ID']\n",
    "X_test        = test_df.drop(columns=['ID', 'Segment'], errors='ignore')\n",
    "X_test_scaled = scaler.transform(X_test)\n",
    "\n",
    "# 테스트 데이터 예측\n",
    "pred_num = final_model.predict(X_test_scaled)\n",
    "pred_str = encoder.inverse_transform(pred_num)"
   ]
  },
  {
   "cell_type": "code",
   "execution_count": null,
   "id": "b2089f30-7d5c-4f4c-8675-48e938dd5bd8",
   "metadata": {},
   "outputs": [],
   "source": [
    "# 예측 결과를 담은 DataFrame 생성\n",
    "submission = pd.DataFrame({'ID': test_ids, 'Segment': pred_str})"
   ]
  },
  {
   "cell_type": "code",
   "execution_count": null,
   "id": "e6acce36-011b-46e0-af9d-4a2b21ff960c",
   "metadata": {},
   "outputs": [],
   "source": [
    "# 샘플 제출 파일 불러오기\n",
    "sample = pd.read_csv('open/sample_submission.csv')"
   ]
  },
  {
   "cell_type": "code",
   "execution_count": null,
   "id": "f2b51afe-74b6-42b4-8210-53a05c7a1340",
   "metadata": {},
   "outputs": [],
   "source": [
    "# 샘플 파일의 Segment 컬럼을 예측 결과로 대체\n",
    "sample['Segment'] = sample['ID'].map(submission.set_index('ID')['Segment'])\n",
    "\n",
    "sample"
   ]
  },
  {
   "cell_type": "code",
   "execution_count": null,
   "id": "8fcd39e3-bc6f-4c2c-988b-59cd9de0fbf7",
   "metadata": {},
   "outputs": [],
   "source": [
    "# 최종 제출파일 저장\n",
    "sample.to_csv('9조_최종모델.csv', index=False, encoding='utf-8-sig')"
   ]
  }
 ],
 "metadata": {
  "kernelspec": {
   "display_name": "Python [conda env:base] *",
   "language": "python",
   "name": "conda-base-py"
  },
  "language_info": {
   "codemirror_mode": {
    "name": "ipython",
    "version": 3
   },
   "file_extension": ".py",
   "mimetype": "text/x-python",
   "name": "python",
   "nbconvert_exporter": "python",
   "pygments_lexer": "ipython3",
   "version": "3.12.7"
  }
 },
 "nbformat": 4,
 "nbformat_minor": 5
}
