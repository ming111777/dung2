{
 "cells": [
  {
   "cell_type": "markdown",
   "id": "5a79641b-11c0-4ad5-8fcc-331e5c83f49e",
   "metadata": {},
   "source": [
    "# 피처 중요도 및 연관성 지표 요약 (3개 피처)\n",
    "\n",
    "---\n",
    "\n",
    "## 1. XGBoost 상대 중요도\n",
    "| 순위 | 피처                         | 상대 중요도(%) |\n",
    "|:---:|:-----------------------------|--------------:|\n",
    "| 1   | 컨택건수_이용유도_TM_R6M     | 47.09         |\n",
    "| 2   | 컨택건수_이용유도_EM_B0M     | 39.09         |\n",
    "| 3   | 컨택건수_이용유도_EM_R6M     | 13.82         |\n",
    "\n",
    "---\n",
    "\n",
    "## 2. CatBoost 상대 중요도\n",
    "| 순위 | 피처                         | 상대 중요도(%) |\n",
    "|:---:|:-----------------------------|--------------:|\n",
    "| 1   | 컨택건수_이용유도_EM_R6M     | 49.58         |\n",
    "| 2   | 컨택건수_이용유도_TM_R6M     | 29.62         |\n",
    "| 3   | 컨택건수_이용유도_EM_B0M     | 20.80         |\n",
    "\n",
    "---\n",
    "\n",
    "## 3. 피처–세그먼트 연관성 지표 (Eta Squared)\n",
    "| 순위 | 피처                         | Eta Squared  |\n",
    "|:---:|:-----------------------------|-------------:|\n",
    "| 1   | 컨택건수_이용유도_TM_R6M     | 0.023751     |\n",
    "| 2   | 컨택건수_이용유도_EM_R6M     | 0.021377     |\n",
    "| 3   | 컨택건수_이용유도_EM_B0M     | 0.019620     |\n",
    "\n",
    "---\n",
    "\n",
    "## 인사이트 및 제안\n",
    "- **TM_R6M**  \n",
    "  - XGBoost와 Eta² 모두에서 가장 높아, 세그먼트 구분의 핵심 변수  \n",
    "- **EM_R6M**  \n",
    "  - CatBoost에서 가장 중요하게 작용하였으며, Eta²도 상위권  \n",
    "- **EM_B0M**  \n",
    "  - XGBoost에서 두 번째, CatBoost·Eta²에서도 의미 있는 기여\n",
    "\n",
    "세 모델과 연관성 지표가 모두 가리키는 **`컨택건수_이용유도_TM_R6M`** 및 **`컨택건수_이용유도_EM_R6M`** 을 우선 포함하시고,  \n",
    "`컨택건수_이용유도_EM_B0M` 까지도 함께 사용하시면 안정적인 설명력을 확보할 수 있습니다.  "
   ]
  },
  {
   "cell_type": "markdown",
   "id": "8ffbd1e1-d9b2-4559-a3b0-a77ccdd9d557",
   "metadata": {},
   "source": [
    "|  순위 | 피처                   | 이유                                        |\n",
    "| :-: | :------------------- | :---------------------------------------- |\n",
    "|  1  | 컨택건수\\_이용유도\\_EM\\_R6M  | CatBoost 1위, XGBoost 5위 → 단기 EM 세션 중요도 높음 |\n",
    "|  2  | 컨택건수\\_이용유도\\_TM\\_R6M  | XGBoost 1위, CatBoost 5위 → TM 채널 기여도 핵심 변수 |\n",
    "|  3  | 컨택건수\\_이용유도\\_인터넷\\_R6M | CatBoost 3위, XGBoost 6위 → 인터넷 접점 세션 유의미   |\n",
    "|  4  | 컨택건수\\_이용유도\\_EM\\_B0M  | XGBoost 4위, CatBoost 6위 → B0M 기간 EM 유도 기여 |\n",
    "|  5  | 컨택건수\\_이용유도\\_청구서\\_R6M | CatBoost 4위, XGBoost 7위 → 청구서 채널 세션 반영    |\n",
    "|  6  | 컨택건수\\_이용유도\\_청구서\\_B0M | XGBoost 2위, CatBoost 9위 → 청구서 단기 세션 중요    |\n",
    "|  7  | 컨택건수\\_보험\\_TM\\_R6M    | CatBoost 7위, XGBoost 8위 → 보험 TM 채널 기여도    |\n",
    "|  8  | 컨택건수\\_이용유도\\_LMS\\_R6M | CatBoost 2위, XGBoost 미상위권 → LMS 세션 주목     |\n",
    "|  9  | 컨택건수\\_신용발급\\_TM\\_R6M  | XGBoost 3위, CatBoost 미상위권 → 신용발급 TM 영향력   |\n",
    "|  10 | 컨택건수\\_카드론\\_TM\\_R6M   | CatBoost 8위, XGBoost 미상위권 → 카드론 TM 특이 변수  |"
   ]
  }
 ],
 "metadata": {
  "kernelspec": {
   "display_name": "Python [conda env:base] *",
   "language": "python",
   "name": "conda-base-py"
  },
  "language_info": {
   "codemirror_mode": {
    "name": "ipython",
    "version": 3
   },
   "file_extension": ".py",
   "mimetype": "text/x-python",
   "name": "python",
   "nbconvert_exporter": "python",
   "pygments_lexer": "ipython3",
   "version": "3.12.7"
  }
 },
 "nbformat": 4,
 "nbformat_minor": 5
}
