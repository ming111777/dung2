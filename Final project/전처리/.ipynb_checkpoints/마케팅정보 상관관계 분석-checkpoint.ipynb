{
 "cells": [
  {
   "cell_type": "code",
   "execution_count": 1,
   "id": "f71a3bb7-513d-40aa-9528-062fdd0867c3",
   "metadata": {},
   "outputs": [],
   "source": [
    "# 기본 라이브러리 임포트\n",
    "import pandas as pd             \n",
    "import numpy as np             \n",
    "import matplotlib.pyplot as plt \n",
    "import seaborn as sns           \n",
    "import gc                       # 가비지 컬렉션(메모리 해제)\n",
    "import re                       # 정규 표현식 처리\n",
    "from collections import defaultdict  # 기본값이 있는 딕셔너리 생성\n",
    "\n",
    "# 경고 메시지 억제\n",
    "import warnings\n",
    "warnings.filterwarnings('ignore')   \n",
    "\n",
    "# 그래프 스타일 설정\n",
    "sns.set()                           # seaborn 기본 스타일 적용\n",
    "\n",
    "# matplotlib 그래프 기본 설정\n",
    "plt.rcParams['font.family'] = 'Malgun Gothic'  # 한글 폰트 설정\n",
    "# plt.rcParams['font.family'] = 'AppleGothic'  \n",
    "plt.rcParams['figure.figsize'] = (12, 6)       # 그림 크기 설정 (가로, 세로)\n",
    "plt.rcParams['font.size'] = 14                 # 폰트 크기 설정\n",
    "plt.rcParams['axes.unicode_minus'] = False     # 마이너스 기호 깨짐 방지\n",
    "\n",
    "# 결측치 시각화 라이브러리 임포트\n",
    "import missingno                          # 결측치 분포를 시각화하는 유틸리티\n",
    "\n",
    "# 범주형 변수 레이블 인코딩을 위한 도구 임포트\n",
    "from sklearn.preprocessing import LabelEncoder\n",
    "\n",
    "# 중복 조합 생성에 사용할 product 함수 임포트\n",
    "from itertools import product\n",
    "\n",
    "# 회귀 및 통계 분석을 위한 statsmodels 임포트\n",
    "import statsmodels.api as sm\n",
    "\n",
    "# 다중공선성 진단용 VIF 계산 함수 임포트\n",
    "from statsmodels.stats.outliers_influence import variance_inflation_factor"
   ]
  },
  {
   "cell_type": "markdown",
   "id": "2a4deeda-6243-446e-b45b-b19270345685",
   "metadata": {},
   "source": [
    "### 데이터 불러오기"
   ]
  },
  {
   "cell_type": "code",
   "execution_count": 2,
   "id": "d03954d7-4da0-4f3f-bf6f-ac2608b74029",
   "metadata": {},
   "outputs": [
    {
     "name": "stdout",
     "output_type": "stream",
     "text": [
      "로드 후 0 전부 컬럼: []\n",
      "로드 후 NaN 있는 컬럼: ['Segment']\n",
      "로드 후 전체 컬럼 수: 33\n"
     ]
    }
   ],
   "source": [
    "# 데이터를 불러온다.\n",
    "df1 = pd.read_parquet('마케팅정보_결측치_제거.parquet')\n",
    "\n",
    "zero_after = [c for c in df1.columns if df1[c].eq(0).all()]\n",
    "na_after   = [c for c in df1.columns if df1[c].isna().any()]\n",
    "\n",
    "print(\"로드 후 0 전부 컬럼:\", zero_after)\n",
    "print(\"로드 후 NaN 있는 컬럼:\", na_after)\n",
    "print(\"로드 후 전체 컬럼 수:\", len(df1.columns))"
   ]
  },
  {
   "cell_type": "markdown",
   "id": "5745a3ae-6a29-46e4-97ed-3376906f09bf",
   "metadata": {},
   "source": [
    "### Segment 분포 확인하기"
   ]
  },
  {
   "cell_type": "code",
   "execution_count": 3,
   "id": "9484d88c-3ea0-4160-bc74-1f20ea57a94d",
   "metadata": {},
   "outputs": [
    {
     "name": "stdout",
     "output_type": "stream",
     "text": [
      "▶ Segment 정보:\n",
      "Segment\n",
      "E    1922052\n",
      "D     349242\n",
      "C     127590\n",
      "A        972\n",
      "B        144\n",
      "Name: count, dtype: int64\n",
      "\n",
      "▶ Segment 분포 및 비율 (%):\n",
      "Segment\n",
      "E    0.80086\n",
      "D    0.14552\n",
      "C    0.05316\n",
      "A    0.00040\n",
      "B    0.00006\n",
      "Name: proportion, dtype: float64\n"
     ]
    }
   ],
   "source": [
    "# 1) Segment(타깃) 분포 살펴보기\n",
    "print(\"▶ Segment 정보:\")\n",
    "print(df1['Segment'].value_counts())\n",
    "\n",
    "print(\"\\n▶ Segment 분포 및 비율 (%):\")\n",
    "print(df1['Segment'].value_counts(normalize=True).round(5))"
   ]
  },
  {
   "cell_type": "code",
   "execution_count": 4,
   "id": "c69b6a96-b838-4bf9-bc98-fbd8e7faaf9b",
   "metadata": {},
   "outputs": [
    {
     "name": "stdout",
     "output_type": "stream",
     "text": [
      "           기준년월            ID  컨택건수_카드론_TM_B0M  컨택건수_이용유도_TM_B0M  \\\n",
      "0        201807  TRAIN_000000                0                 0   \n",
      "1        201807  TRAIN_000001                3                 0   \n",
      "2        201807  TRAIN_000002                0                 0   \n",
      "3        201807  TRAIN_000003                0                 0   \n",
      "4        201807  TRAIN_000004                0                 0   \n",
      "...         ...           ...              ...               ...   \n",
      "2999995  201812    TEST_99995                0                 0   \n",
      "2999996  201812    TEST_99996                0                 0   \n",
      "2999997  201812    TEST_99997                0                 3   \n",
      "2999998  201812    TEST_99998                0                 0   \n",
      "2999999  201812    TEST_99999                0                 0   \n",
      "\n",
      "         컨택건수_보험_TM_B0M  컨택건수_카드론_LMS_B0M  컨택건수_이용유도_LMS_B0M  \\\n",
      "0                     0                 0                  2   \n",
      "1                     0                 0                  0   \n",
      "2                     0                 0                  0   \n",
      "3                     0                 0                  2   \n",
      "4                     0                 0                  3   \n",
      "...                 ...               ...                ...   \n",
      "2999995               0                 0                  0   \n",
      "2999996               0                 0                  0   \n",
      "2999997               0                 0                  2   \n",
      "2999998               0                 0                  0   \n",
      "2999999               0                 0                  0   \n",
      "\n",
      "         컨택건수_이용유도_EM_B0M  컨택건수_CA_청구서_B0M  컨택건수_이용유도_청구서_B0M  ...  \\\n",
      "0                      13                0                  0  ...   \n",
      "1                       0                0                  0  ...   \n",
      "2                       0                0                  0  ...   \n",
      "3                      13                0                  1  ...   \n",
      "4                       0                0                  1  ...   \n",
      "...                   ...              ...                ...  ...   \n",
      "2999995                 0                0                  0  ...   \n",
      "2999996                 2                0                  0  ...   \n",
      "2999997                 1                0                  0  ...   \n",
      "2999998                 0                0                  1  ...   \n",
      "2999999                 0                0                  0  ...   \n",
      "\n",
      "         컨택건수_이용유도_인터넷_R6M  컨택건수_채권_B0M  컨택건수_채권_R6M  캠페인접촉일수_R12M_num  \\\n",
      "0                        2            0            0                 1   \n",
      "1                        6            0            0                10   \n",
      "2                        3            0            0                 1   \n",
      "3                        0            0            0                 1   \n",
      "4                        1            0            0                 1   \n",
      "...                    ...          ...          ...               ...   \n",
      "2999995                  0            0            0                 1   \n",
      "2999996                  3            0            0                 1   \n",
      "2999997                  1            0            0                 1   \n",
      "2999998                  0            0            0                 5   \n",
      "2999999                  3            0            0                 1   \n",
      "\n",
      "         캠페인접촉건수_R12M_num  Seg_A  Seg_B  Seg_C  Seg_D  Seg_E  \n",
      "0                       1  False  False  False   True  False  \n",
      "1                      15  False  False  False  False   True  \n",
      "2                       1  False  False   True  False  False  \n",
      "3                       1  False  False  False   True  False  \n",
      "4                       1  False  False  False  False   True  \n",
      "...                   ...    ...    ...    ...    ...    ...  \n",
      "2999995                 1  False  False  False  False  False  \n",
      "2999996                 1  False  False  False  False  False  \n",
      "2999997                 1  False  False  False  False  False  \n",
      "2999998                 5  False  False  False  False  False  \n",
      "2999999                 1  False  False  False  False  False  \n",
      "\n",
      "[3000000 rows x 37 columns]\n"
     ]
    }
   ],
   "source": [
    "# One-Hot Encoding\n",
    "df_ohe = pd.get_dummies(df1, columns=['Segment'], prefix='Seg')\n",
    "\n",
    "# 결과 확인\n",
    "print(df_ohe)"
   ]
  },
  {
   "cell_type": "markdown",
   "id": "44339393-2aa4-4e61-ae2d-263347f860dc",
   "metadata": {},
   "source": [
    "### Segment와 변수 간 상관관계 분석\n",
    "- 에타 제곱 분석의 신뢰도를 높이기 위해, 전체의 5% 미만을 차지하는 세그먼트는 표본 수가 부족하여 과도한 변동을 유발하고 해석에 혼란을 줄 수 있으므로 사전에 제외하였다.\n",
    "- 에타 제곱 값이 0.01 미만인 변수는 그룹 간 차이를 설명하는 데 기여가 거의 없다고 판단하여 추가 분석 대상에서 제외하였다."
   ]
  },
  {
   "cell_type": "code",
   "execution_count": 5,
   "id": "f2d99099-884e-490f-856b-fe779259c1b4",
   "metadata": {},
   "outputs": [],
   "source": [
    "# Seg_로 시작하는 더미 컬럼 리스트 생성\n",
    "dummy_cols = [c for c in df_ohe.columns if c.startswith('Seg_')]\n",
    "\n",
    "# Segment 복원: 값이 1인 더미 컬럼에서 'Seg_' 접두사를 제거\n",
    "df_ohe['Segment'] = df_ohe[dummy_cols].idxmax(axis=1).str.replace('Seg_', '')\n",
    "\n",
    "# 수치형 변수만 남긴 df_num 생성 (더미 컬럼 제거)\n",
    "df_num = df_ohe.drop(columns=dummy_cols).copy()\n",
    "\n",
    "# 기존에 생성한 df_num을 df로 재할당\n",
    "df = df_num"
   ]
  },
  {
   "cell_type": "code",
   "execution_count": 6,
   "id": "1b077de1-aaa4-4bc0-8b0c-53b9d3f1fb0a",
   "metadata": {},
   "outputs": [],
   "source": [
    "# 수치형 독립 변수와 범주형 타겟 변수 사이의 관련성 확인 (Eta Squared : 에타 제곱)\n",
    "def eta_squared(y, x):\n",
    "    # 제외할 세그먼트 리스트 설정\n",
    "    drop_segs = ['A', 'B']\n",
    "    \n",
    "    # 제외 대상 세그먼트 필터 마스크 생성\n",
    "    mask = ~y.isin(drop_segs)\n",
    "    y_f = y[mask]\n",
    "    x_f = x[mask]\n",
    "    \n",
    "    # 전체 x_f의 평균 산출하여 grand_mean에 저장\n",
    "    grand_mean = x_f.mean()\n",
    "    \n",
    "    # 총 변동 SST 산출\n",
    "    sst = ((x_f - grand_mean) ** 2).sum()\n",
    "    \n",
    "    # 필터링된 그룹별 x_f 리스트 생성\n",
    "    groups = [x_f[y_f == val] for val in y_f.unique()]\n",
    "    \n",
    "    # 집단 간 변동 SSB 산출\n",
    "    ssb = sum(len(g) * (g.mean() - grand_mean) ** 2 for g in groups)\n",
    "    \n",
    "    # Eta Squared 산출하여 반환\n",
    "    return ssb / sst if sst != 0 else np.nan"
   ]
  },
  {
   "cell_type": "code",
   "execution_count": 7,
   "id": "7ca1e006-db0e-40dc-8cd9-83be61f0a016",
   "metadata": {},
   "outputs": [],
   "source": [
    "# VIF 계산 함수 (그룹 내 수치형 변수만)\n",
    "def compute_vif(df, feature_cols):\n",
    "    X = df[feature_cols].select_dtypes(include=[np.number]).copy()  # df1 → df\n",
    "    X['const'] = 1.0\n",
    "    X = X.replace([np.inf, -np.inf], np.nan).dropna()\n",
    "    vif_data = []\n",
    "    for i, col in enumerate(X.columns):\n",
    "        vif_data.append({\n",
    "            'variable': col,\n",
    "            'VIF': variance_inflation_factor(X.values, i)\n",
    "        })\n",
    "    return pd.DataFrame(vif_data)"
   ]
  },
  {
   "cell_type": "code",
   "execution_count": 8,
   "id": "52164939-46ca-4466-96a3-0adf28d6ecb0",
   "metadata": {},
   "outputs": [],
   "source": [
    "# df = df_num 까지 수행한 뒤, 이 코드 블록을 실행\n",
    "\n",
    "# 순서형 인코딩할 원본 _num 컬럼 리스트\n",
    "ord_cols = [\n",
    "   '캠페인접촉일수_R12M_num',\n",
    "    '캠페인접촉건수_R12M_num'\n",
    "]\n",
    "\n",
    "# 순서형 인덱스를 매핑하여 df에 새로운 _ord 컬럼 생성\n",
    "for col in ord_cols:\n",
    "    unique_vals = sorted(df[col].unique())\n",
    "    mapping     = {val: idx + 1 for idx, val in enumerate(unique_vals)}\n",
    "    df[f'{col}_ord'] = df[col].map(mapping)\n",
    "\n",
    "# 원본 _num 컬럼 삭제\n",
    "df.drop(columns=ord_cols, inplace=True)\n",
    "\n",
    "\n",
    "group_cols = [\n",
    "   '캠페인접촉일수_R12M_ord',\n",
    "    '캠페인접촉건수_R12M_ord'\n",
    "]"
   ]
  },
  {
   "cell_type": "markdown",
   "id": "72c3387f-044b-46d2-9bb1-3ac0c29aa81f",
   "metadata": {},
   "source": [
    "### 에타제곱 값 구하기"
   ]
  },
  {
   "cell_type": "code",
   "execution_count": 9,
   "id": "a945043e-1c30-4934-9687-5f8c77398cc1",
   "metadata": {},
   "outputs": [
    {
     "data": {
      "text/html": [
       "<div>\n",
       "<style scoped>\n",
       "    .dataframe tbody tr th:only-of-type {\n",
       "        vertical-align: middle;\n",
       "    }\n",
       "\n",
       "    .dataframe tbody tr th {\n",
       "        vertical-align: top;\n",
       "    }\n",
       "\n",
       "    .dataframe thead th {\n",
       "        text-align: right;\n",
       "    }\n",
       "</style>\n",
       "<table border=\"1\" class=\"dataframe\">\n",
       "  <thead>\n",
       "    <tr style=\"text-align: right;\">\n",
       "      <th></th>\n",
       "      <th>feature</th>\n",
       "      <th>eta_squared</th>\n",
       "    </tr>\n",
       "  </thead>\n",
       "  <tbody>\n",
       "    <tr>\n",
       "      <th>11</th>\n",
       "      <td>컨택건수_이용유도_TM_R6M</td>\n",
       "      <td>0.023751</td>\n",
       "    </tr>\n",
       "    <tr>\n",
       "      <th>21</th>\n",
       "      <td>컨택건수_이용유도_EM_R6M</td>\n",
       "      <td>0.021377</td>\n",
       "    </tr>\n",
       "    <tr>\n",
       "      <th>5</th>\n",
       "      <td>컨택건수_이용유도_EM_B0M</td>\n",
       "      <td>0.019620</td>\n",
       "    </tr>\n",
       "  </tbody>\n",
       "</table>\n",
       "</div>"
      ],
      "text/plain": [
       "             feature  eta_squared\n",
       "11  컨택건수_이용유도_TM_R6M     0.023751\n",
       "21  컨택건수_이용유도_EM_R6M     0.021377\n",
       "5   컨택건수_이용유도_EM_B0M     0.019620"
      ]
     },
     "metadata": {},
     "output_type": "display_data"
    }
   ],
   "source": [
    "# 계산에서 제외할 컬럼 목록 설정\n",
    "exclude_cols = ['Segment', 'ID', '기준년월']\n",
    "\n",
    "# 수치형 컬럼 리스트 생성\n",
    "numeric_cols = [\n",
    "    col for col in df.columns\n",
    "    if col not in exclude_cols and pd.api.types.is_numeric_dtype(df[col])\n",
    "]\n",
    "\n",
    "# 에타 제곱 결과 저장 리스트 초기화\n",
    "eta_results = []\n",
    "\n",
    "# 각 수치형 컬럼에 대해 에타 제곱값 계산\n",
    "for col in numeric_cols:\n",
    "    \n",
    "    # 에타 제곱값 구하기\n",
    "    eta_val = eta_squared(df['Segment'], df[col])\n",
    "    \n",
    "    # 결과 리스트에 추가\n",
    "    eta_results.append({\n",
    "        'feature': col,\n",
    "        'eta_squared': eta_val\n",
    "    })\n",
    "\n",
    "# 리스트를 데이터프레임으로 변환\n",
    "eta_df = pd.DataFrame(eta_results)\n",
    "\n",
    "# 에타 제곱값이 0.01 이상인 피처만 필터링\n",
    "eta_df = eta_df[eta_df['eta_squared'] >= 0.01]\n",
    "\n",
    "# 에타 제곱 기준 내림차순 정렬\n",
    "eta_df = eta_df.sort_values('eta_squared', ascending=False)\n",
    "\n",
    "# 필터링된 피처 출력\n",
    "display(eta_df)"
   ]
  },
  {
   "cell_type": "markdown",
   "id": "50a33c13-1ed5-4eda-9f9c-50162aa18f63",
   "metadata": {},
   "source": [
    "## 에타 제곱(Eta²) 해석 기준\n",
    "- **작은 효과 (Small)**: 0.01 ≤ η² < 0.06  \n",
    "- **중간 효과 (Medium)**: 0.06 ≤ η² < 0.14  \n",
    "- **큰 효과 (Large)**: η² ≥ 0.14  "
   ]
  },
  {
   "cell_type": "code",
   "execution_count": null,
   "id": "873f2b5b-dda9-470c-8fe0-69958cc6bdb0",
   "metadata": {},
   "outputs": [],
   "source": [
    "# train 데이터 불러오기\n",
    "df = pd.read_csv ('train_cleaned7.csv')\n",
    "df"
   ]
  }
 ],
 "metadata": {
  "kernelspec": {
   "display_name": "Python [conda env:base] *",
   "language": "python",
   "name": "conda-base-py"
  },
  "language_info": {
   "codemirror_mode": {
    "name": "ipython",
    "version": 3
   },
   "file_extension": ".py",
   "mimetype": "text/x-python",
   "name": "python",
   "nbconvert_exporter": "python",
   "pygments_lexer": "ipython3",
   "version": "3.12.7"
  }
 },
 "nbformat": 4,
 "nbformat_minor": 5
}
