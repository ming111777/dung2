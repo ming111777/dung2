{
 "cells": [
  {
   "cell_type": "code",
   "execution_count": 4,
   "id": "a87f9480-208e-43b8-805b-d345f63f50e5",
   "metadata": {},
   "outputs": [],
   "source": [
    "import pandas as pd\n",
    "import numpy as np\n",
    "from sklearn.model_selection      import train_test_split, StratifiedKFold, cross_val_predict\n",
    "from sklearn.preprocessing       import StandardScaler\n",
    "from sklearn.impute              import SimpleImputer\n",
    "from xgboost                     import XGBClassifier\n",
    "from sklearn.metrics             import confusion_matrix, classification_report\n",
    "from sklearn.pipeline            import Pipeline"
   ]
  },
  {
   "cell_type": "code",
   "execution_count": 5,
   "id": "3db12752-b6fa-4d1a-af53-1fb1c85673ce",
   "metadata": {},
   "outputs": [
    {
     "name": "stdout",
     "output_type": "stream",
     "text": [
      "=== 10-Fold CV Aggregated Confusion Matrix ===\n",
      "          예측_not-E    예측_E\n",
      "실제_not-E     50493   13233\n",
      "실제_E          9037  247237\n",
      "\n",
      "=== 10-Fold CV Classification Report ===\n",
      "              precision    recall  f1-score   support\n",
      "\n",
      "       not-E       0.85      0.79      0.82     63726\n",
      "           E       0.95      0.96      0.96    256274\n",
      "\n",
      "    accuracy                           0.93    320000\n",
      "   macro avg       0.90      0.88      0.89    320000\n",
      "weighted avg       0.93      0.93      0.93    320000\n",
      "\n",
      "\n",
      "=== Hold-out Confusion Matrix ===\n",
      "          예측_not-E   예측_E\n",
      "실제_not-E     12689   3243\n",
      "실제_E          2182  61886\n",
      "\n",
      "=== Hold-out Classification Report ===\n",
      "              precision    recall  f1-score   support\n",
      "\n",
      "       not-E       0.85      0.80      0.82     15932\n",
      "           E       0.95      0.97      0.96     64068\n",
      "\n",
      "    accuracy                           0.93     80000\n",
      "   macro avg       0.90      0.88      0.89     80000\n",
      "weighted avg       0.93      0.93      0.93     80000\n",
      "\n"
     ]
    }
   ],
   "source": [
    "# 1) 데이터 로드 및 ID 제거\n",
    "df = pd.read_csv(\"train_final_with_pca.csv\").drop(columns=['ID'])\n",
    "\n",
    "# 2) 피처(X)와 이진 타깃(y_e) 분리\n",
    "X = df.drop(columns=['Segment'])\n",
    "y = df['Segment']\n",
    "y_e = (y == 'E').astype(int)  # E면 1, 아니면 0\n",
    "\n",
    "# 3) 학습/검증 분할 (20% 검증, stratify)\n",
    "X_train, X_val, y_train_e, y_val_e = train_test_split(\n",
    "    X, y_e, test_size=0.2, random_state=42, stratify=y_e\n",
    ")\n",
    "\n",
    "# 4) 전처리: 결측값 대체 → 스케일링\n",
    "imputer = SimpleImputer(strategy='mean')\n",
    "scaler = StandardScaler()\n",
    "X_train_p = scaler.fit_transform(imputer.fit_transform(X_train))\n",
    "X_val_p = scaler.transform(imputer.transform(X_val))\n",
    "\n",
    "# 5) 모델 학습: XGBoost 이진 분류 (E vs not-E)\n",
    "model_e = XGBClassifier(\n",
    "    objective='binary:logistic',\n",
    "    eval_metric='logloss',\n",
    "    random_state=42\n",
    ")\n",
    "model_e.fit(X_train_p, y_train_e)\n",
    "\n",
    "# 6) 검증 데이터 예측\n",
    "y_pred_e = model_e.predict(X_val_p)\n",
    "\n",
    "# 7) 결과 출력\n",
    "cm = confusion_matrix(y_val_e, y_pred_e)\n",
    "print(\"혼동행렬 (E vs not-E):\")\n",
    "print(pd.DataFrame(\n",
    "    cm,\n",
    "    index=['실제_not-E', '실제_E'],\n",
    "    columns=['예측_not-E', '예측_E']\n",
    "))\n",
    "\n",
    "print(\"\\n분류 리포트 (E vs not-E):\")\n",
    "print(classification_report(y_val_e, y_pred_e, target_names=['not-E', 'E']))"
   ]
  },
  {
   "cell_type": "code",
   "execution_count": null,
   "id": "3fc1cf04-73b6-43e1-85d7-78b43ba09cfe",
   "metadata": {},
   "outputs": [],
   "source": []
  }
 ],
 "metadata": {
  "kernelspec": {
   "display_name": "Python [conda env:base] *",
   "language": "python",
   "name": "conda-base-py"
  },
  "language_info": {
   "codemirror_mode": {
    "name": "ipython",
    "version": 3
   },
   "file_extension": ".py",
   "mimetype": "text/x-python",
   "name": "python",
   "nbconvert_exporter": "python",
   "pygments_lexer": "ipython3",
   "version": "3.12.7"
  }
 },
 "nbformat": 4,
 "nbformat_minor": 5
}
